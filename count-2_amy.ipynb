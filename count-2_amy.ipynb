{
 "cells": [
  {
   "cell_type": "markdown",
   "metadata": {},
   "source": [
    "# Count-2: NPI count <= patient count\n",
    "\n",
    "Description: test if all the provider counts are less or equal to their corresponding patient counts.\n",
    "\n",
    "Starting Author: Amy Jin (amy@careset.com)\n",
    "\n",
    "Date: 07/23/2018\n",
    "\n",
    "https://docs.google.com/spreadsheets/d/1IYg01IpssJaWHo6KxO4_dSDgXtYNFy41S5cIHFLvlGQ/edit#gid=604789549"
   ]
  },
  {
   "cell_type": "markdown",
   "metadata": {},
   "source": [
    "## Connection to Parenthood Server"
   ]
  },
  {
   "cell_type": "code",
   "execution_count": 1,
   "metadata": {},
   "outputs": [
    {
     "name": "stdout",
     "output_type": "stream",
     "text": [
      "SSH tunneling successful on port: 3333\n",
      "MySQL server connected successfully!\n"
     ]
    }
   ],
   "source": [
    "# Packages import\n",
    "import os\n",
    "import sys\n",
    "import numpy as np\n",
    "import pandas as pd\n",
    "from collections import Counter\n",
    "import operator\n",
    "import mysql.connector\n",
    "import sshtunnel\n",
    "import pureyaml\n",
    "\n",
    "# Handle path\n",
    "project_dir = !pwd  # dir of current script/notebook file\n",
    "config_file = open(project_dir[0] + \"/db.yaml\");\n",
    "config = pureyaml.load(config_file.read());\n",
    "\n",
    "# Argument dictionary for sshtunnel\n",
    "ssh_config = {\n",
    "    'ssh_address_or_host': ('parenthood.set.care', 22),\n",
    "    'ssh_username':        config['ssh_username'],\n",
    "    'ssh_password':        config['ssh_password'],\n",
    "    'remote_bind_address': ('127.0.0.1', 3306),\n",
    "    'local_bind_address':  ('0.0.0.0', 3333),\n",
    "}\n",
    "\n",
    "# Argument dictionary for mysql.connector\n",
    "mysql_config = {\n",
    "    'user':     config['mysql_user'],\n",
    "    'password': config['mysql_passwd'],\n",
    "    'host':     config['mysql_host'],\n",
    "    'database': 'patch',\n",
    "    'port':     3333,\n",
    "}\n",
    "\n",
    "# Connect to Parenthood server\n",
    "with sshtunnel.SSHTunnelForwarder(**ssh_config) as tunnel:\n",
    "    print('SSH tunneling successful on port: {}'.format(tunnel.local_bind_port))\n",
    "    connection = mysql.connector.connect(**mysql_config)\n",
    "    cur = connection.cursor()\n",
    "    print('MySQL server connected successfully!')"
   ]
  },
  {
   "cell_type": "markdown",
   "metadata": {},
   "source": [
    "## Test Function"
   ]
  },
  {
   "cell_type": "code",
   "execution_count": 2,
   "metadata": {},
   "outputs": [],
   "source": [
    "# --------------------------------------- Inputs: ---------------------------------------\n",
    "# 1) db_name:                database name in server\n",
    "# 2）table_name:             table name\n",
    "# 3) npi_cnt:                NPI count column. If there is no NPI_count column in the \n",
    "# database, then the npi_count input is 1.\n",
    "# 4) bene_cnt:               patient count column\n",
    "# --------------------------------------- Outputs: --------------------------------------\n",
    "# 1) Test result:            PASS/FAIL\n",
    "# 2) If FAIL, the test will print out:\n",
    "#      - the count of rows that fail the test and \n",
    "#      - the total count of rows.\n",
    "\n",
    "\n",
    "def count_2(db_name, table_name, npi_cnt, bene_cnt):\n",
    "    #table1 = str(db_name) + '.' + str(table_name)\n",
    "    if npi_cnt == 1:\n",
    "        print (\"Count 2 result: PASS\")\n",
    "    else:\n",
    "        with sshtunnel.SSHTunnelForwarder(**ssh_config) as tunnel:\n",
    "            connection = mysql.connector.connect(**mysql_config)\n",
    "            cur = connection.cursor()\n",
    "\n",
    "            query = ('''\n",
    "                    SELECT *\n",
    "                    FROM {db}.{t1}\n",
    "                    WHERE {col1} > {col2}\n",
    "                    LIMIT 1;\n",
    "            '''.format(db = db_name, t1 = table_name, col1 = npi_cnt, col2 = bene_cnt))\n",
    "\n",
    "            cur.execute(query)\n",
    "            rows = list(sum(cur.fetchall(), ()))\n",
    "\n",
    "            if not len(rows):\n",
    "                print (\"Count-2 result for {}.{} : PASS\".format(db_name, table_name))\n",
    "            else:\n",
    "                print (\"Count-2 result for {}.{} : FAIL\".format(db_name, table_name) + '\\n')\n",
    "\n",
    "                # MySQL to get failed row count\n",
    "                query = ('''\n",
    "                    SELECT COUNT(*)\n",
    "                    FROM {db}.{t1}\n",
    "                    WHERE {col1} > {col2};\n",
    "                '''.format(db = db_name, t1 = table_name, col1 = npi_cnt, col2 = bene_cnt))\n",
    "\n",
    "                cur.execute(query)\n",
    "\n",
    "                print (\"The count of rows that fail the test is:\" + '\\n')\n",
    "                for row in cur.fetchall():\n",
    "                    for i in range(0,len(row)):\n",
    "                        print (str(row[i]))\n",
    "                    print ('\\n')\n",
    "\n",
    "                # MySQL to get total row count\n",
    "                query = ('''\n",
    "                    SELECT COUNT(*)\n",
    "                    FROM {db}.{t1};\n",
    "                '''.format(db = db_name, t1 = table_name))\n",
    "\n",
    "                cur.execute(query)\n",
    "\n",
    "                print (\"The total count of rows is:\" + '\\n')\n",
    "                for row in cur.fetchall():\n",
    "                    for i in range(0,len(row)):\n",
    "                        print (str(row[i]))\n",
    "                    print ('\\n')\n",
    "\n",
    "            cur.close()\n",
    "            connection.close()            "
   ]
  },
  {
   "cell_type": "markdown",
   "metadata": {},
   "source": [
    "## Test Example"
   ]
  },
  {
   "cell_type": "code",
   "execution_count": 3,
   "metadata": {},
   "outputs": [
    {
     "name": "stdout",
     "output_type": "stream",
     "text": [
      "Count 2 result: PASS\n"
     ]
    }
   ],
   "source": [
    "count_2('_amy', 'test_data_good', 1, 'cnt_bene_id')"
   ]
  },
  {
   "cell_type": "code",
   "execution_count": 4,
   "metadata": {},
   "outputs": [
    {
     "name": "stdout",
     "output_type": "stream",
     "text": [
      "Count-2 result for _amy.test_data_bad1 : FAIL\n",
      "\n",
      "The count of rows that fail the test is:\n",
      "\n",
      "1698\n",
      "\n",
      "\n",
      "The total count of rows is:\n",
      "\n",
      "1999\n",
      "\n",
      "\n"
     ]
    }
   ],
   "source": [
    "count_2('_amy', 'test_data_bad1', 'cnt_pnpi','cnt_bene_id')"
   ]
  },
  {
   "cell_type": "code",
   "execution_count": null,
   "metadata": {},
   "outputs": [],
   "source": []
  }
 ],
 "metadata": {
  "kernelspec": {
   "display_name": "Python 3",
   "language": "python",
   "name": "python3"
  },
  "language_info": {
   "codemirror_mode": {
    "name": "ipython",
    "version": 3
   },
   "file_extension": ".py",
   "mimetype": "text/x-python",
   "name": "python",
   "nbconvert_exporter": "python",
   "pygments_lexer": "ipython3",
   "version": "3.6.4"
  }
 },
 "nbformat": 4,
 "nbformat_minor": 2
}
