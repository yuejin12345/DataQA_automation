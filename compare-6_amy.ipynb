{
 "cells": [
  {
   "cell_type": "markdown",
   "metadata": {},
   "source": [
    "# Compare-6: data in different timespan should include similar ICD code sets (ICD10CM/ICD10PCS)\n",
    "\n",
    "Description: check if data in different timespan include similar ICD code sets (ICD10CM).\n",
    "\n",
    "Starting Author: Amy Jin (amy@careset.com)\n",
    "\n",
    "Date: July 27th, 2018\n",
    "\n",
    "https://docs.google.com/spreadsheets/d/1IYg01IpssJaWHo6KxO4_dSDgXtYNFy41S5cIHFLvlGQ/edit#gid=604789549"
   ]
  },
  {
   "cell_type": "markdown",
   "metadata": {},
   "source": [
    "## Connection to Parenthood Server"
   ]
  },
  {
   "cell_type": "code",
   "execution_count": 1,
   "metadata": {},
   "outputs": [
    {
     "name": "stdout",
     "output_type": "stream",
     "text": [
      "SSH tunneling successful on port: 3333\n",
      "MySQL server connected successfully!\n"
     ]
    }
   ],
   "source": [
    "# Packages import\n",
    "import os\n",
    "import sys\n",
    "import numpy as np\n",
    "import pandas as pd\n",
    "from collections import Counter\n",
    "import operator\n",
    "import mysql.connector\n",
    "import sshtunnel\n",
    "import pureyaml\n",
    "\n",
    "# Handle path\n",
    "project_dir = !pwd  # dir of current script/notebook file\n",
    "config_file = open(project_dir[0] + \"/db.yaml\");\n",
    "config = pureyaml.load(config_file.read());\n",
    "\n",
    "# Argument dictionary for sshtunnel\n",
    "ssh_config = {\n",
    "    'ssh_address_or_host': ('parenthood.set.care', 22),\n",
    "    'ssh_username':        config['ssh_username'],\n",
    "    'ssh_password':        config['ssh_password'],\n",
    "    'remote_bind_address': ('127.0.0.1', 3306),\n",
    "    'local_bind_address':  ('0.0.0.0', 3333),\n",
    "}\n",
    "\n",
    "# Argument dictionary for mysql.connector\n",
    "mysql_config = {\n",
    "    'user':     config['mysql_user'],\n",
    "    'password': config['mysql_passwd'],\n",
    "    'host':     config['mysql_host'],\n",
    "    'database': 'patch',\n",
    "    'port':     3333,\n",
    "}\n",
    "\n",
    "# Connect to Parenthood server\n",
    "with sshtunnel.SSHTunnelForwarder(**ssh_config) as tunnel:\n",
    "    print('SSH tunneling successful on port: {}'.format(tunnel.local_bind_port))\n",
    "    connection = mysql.connector.connect(**mysql_config)\n",
    "    cur = connection.cursor()\n",
    "    print('MySQL server connected successfully!')"
   ]
  },
  {
   "cell_type": "markdown",
   "metadata": {},
   "source": [
    "## Test Function"
   ]
  },
  {
   "cell_type": "code",
   "execution_count": 2,
   "metadata": {},
   "outputs": [],
   "source": [
    "# --------------------------------------- Inputs: ---------------------------------------\n",
    "# 1) db_name1:                database 1 name in server\n",
    "# 2）table_name1:             table1 name\n",
    "# 3) col_name1:               column in table 1 to test\n",
    "# 4) key1_1:                  key in table 1\n",
    "\n",
    "# 5) db_name2:                database 2 name in server\n",
    "# 6）table_name2:             table 2 name\n",
    "# 7) col_name2:               column in table 2 to test\n",
    "# 8) key2_1:                  key in table 2\n",
    "# --------------------------------------- Outputs: --------------------------------------\n",
    "# 1) Test result: \n",
    "#       - distinct ICD count in table 1\n",
    "#       - distinct ICD count in table 2\n",
    "#       - distinct ICD count in both table 1 and table 2\n",
    "\n",
    "\n",
    "def compare_6(db_name1, table_name1, col_name1, \\\n",
    "              key1_1, \\\n",
    "              db_name2, table_name2, col_name2, \\\n",
    "              key2_1):\n",
    "\n",
    "    with sshtunnel.SSHTunnelForwarder(**ssh_config) as tunnel:\n",
    "        connection = mysql.connector.connect(**mysql_config)\n",
    "        cur = connection.cursor()\n",
    "        \n",
    "        # MySQL query to compute distinct ICD count in both table 1 and table 2\n",
    "        query = ('''\n",
    "            SELECT COUNT(DISTINCT table1.{col1})\n",
    "            FROM {db1}.{t1} AS table1\n",
    "            JOIN {db2}.{t2} AS table2\n",
    "            ON table1.{key1_1} = table2.{key2_1} ;\n",
    "        '''.format(db1 = db_name1, t1 = table_name1, col1 = col_name1, \\\n",
    "                   key1_1 = key1_1,  \\\n",
    "                  db2 = db_name2, t2 = table_name2, col2 = col_name2, \\\n",
    "                  key2_1 = key2_1 ))\n",
    "\n",
    "        cur.execute(query)\n",
    "    \n",
    "        print ('Count of distinct {} in both {}.{} and {}.{} is:'.format(col_name1, db_name1, table_name1, \\\n",
    "                                                                         db_name2, table_name2))\n",
    "        \n",
    "        for row in cur.fetchall():\n",
    "            for i in range(0,len(row)):\n",
    "                print (str(row[i]))\n",
    "            \n",
    "        # MySQL query to compute distinct ICD count in table 1\n",
    "        query = ('''\n",
    "            SELECT COUNT(DISTINCT {col1})\n",
    "            FROM {db}.{t1};\n",
    "        '''.format(db = db_name1, t1 = table_name1, col1 = col_name1))\n",
    "\n",
    "        cur.execute(query)\n",
    "    \n",
    "        print ('Count of distinct {} in {}.{} is:'.format(col_name1, db_name1, table_name1))\n",
    "        \n",
    "        for row in cur.fetchall():\n",
    "            for i in range(0,len(row)):\n",
    "                print (str(row[i]))\n",
    "\n",
    "        # MySQL query to compute distinct ICD count in table 2\n",
    "        query = ('''\n",
    "            SELECT COUNT(DISTINCT {col1})\n",
    "            FROM {db}.{t1};\n",
    "        '''.format(db = db_name2, t1 = table_name2, col1 = col_name2))\n",
    "\n",
    "        cur.execute(query)\n",
    "    \n",
    "        print ('Count of distinct {} in {}.{} is:'.format(col_name2, db_name2, table_name2))\n",
    "        \n",
    "        for row in cur.fetchall():\n",
    "            for i in range(0,len(row)):\n",
    "                print (str(row[i]))\n",
    "            \n",
    "        cur.close()\n",
    "        connection.close()"
   ]
  },
  {
   "cell_type": "markdown",
   "metadata": {},
   "source": [
    "## Test Example"
   ]
  },
  {
   "cell_type": "code",
   "execution_count": 3,
   "metadata": {},
   "outputs": [
    {
     "name": "stdout",
     "output_type": "stream",
     "text": [
      "Count of distinct icd10cm in both _amy.test_data_good and _amy.test_data_bad1 is:\n",
      "0\n",
      "Count of distinct icd10cm in _amy.test_data_good is:\n",
      "2000\n",
      "Count of distinct icd_dgns_cd in _amy.test_data_bad1 is:\n",
      "138\n"
     ]
    }
   ],
   "source": [
    "compare_6('_amy', 'test_data_good','icd10cm', \\\n",
    "          'icd10cm', \\\n",
    "         '_amy', 'test_data_bad1','icd_dgns_cd',\\\n",
    "         'icd_dgns_cd')"
   ]
  },
  {
   "cell_type": "markdown",
   "metadata": {},
   "source": [
    "## Internal Data Test Example"
   ]
  },
  {
   "cell_type": "code",
   "execution_count": 8,
   "metadata": {},
   "outputs": [
    {
     "name": "stdout",
     "output_type": "stream",
     "text": [
      "Count of distinct icd_dgns_cd in both icd_national.icd_national_RQ16 and icd_national.icd_national_merged_RQ17 is:\n",
      "59661\n",
      "Count of distinct icd_dgns_cd in icd_national.icd_national_RQ16 is:\n",
      "65645\n",
      "Count of distinct icd_dgns_cd in icd_national.icd_national_merged_RQ17 is:\n",
      "64818\n"
     ]
    }
   ],
   "source": [
    "compare_6('icd_national', 'icd_national_RQ16', 'icd_dgns_cd', \\\n",
    "          'icd_dgns_cd',\\\n",
    "          'icd_national', 'icd_national_merged_RQ17', 'icd_dgns_cd', \\\n",
    "          'icd_dgns_cd')"
   ]
  }
 ],
 "metadata": {
  "kernelspec": {
   "display_name": "Python 3",
   "language": "python",
   "name": "python3"
  },
  "language_info": {
   "codemirror_mode": {
    "name": "ipython",
    "version": 3
   },
   "file_extension": ".py",
   "mimetype": "text/x-python",
   "name": "python",
   "nbconvert_exporter": "python",
   "pygments_lexer": "ipython3",
   "version": "3.6.4"
  }
 },
 "nbformat": 4,
 "nbformat_minor": 2
}
