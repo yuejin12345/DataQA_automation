{
 "cells": [
  {
   "cell_type": "markdown",
   "metadata": {},
   "source": [
    "# Compare-1: distinct NPI count should be similar for consecutive timespans\n",
    "\n",
    "Description: check if distinct NPI counts are similar for consecutive timespans.\n",
    "\n",
    "Starting Author: Amy Jin (amy@careset.com)\n",
    "\n",
    "Date: July 23rd, 2018\n",
    "\n",
    "https://docs.google.com/spreadsheets/d/1IYg01IpssJaWHo6KxO4_dSDgXtYNFy41S5cIHFLvlGQ/edit#gid=604789549"
   ]
  },
  {
   "cell_type": "markdown",
   "metadata": {},
   "source": [
    "## Connection to Parenthood Server"
   ]
  },
  {
   "cell_type": "code",
   "execution_count": 2,
   "metadata": {},
   "outputs": [
    {
     "name": "stdout",
     "output_type": "stream",
     "text": [
      "SSH tunneling successful on port: 3333\n",
      "MySQL server connected successfully!\n"
     ]
    }
   ],
   "source": [
    "# Packages import\n",
    "import os\n",
    "import sys\n",
    "import numpy as np\n",
    "import pandas as pd\n",
    "from collections import Counter\n",
    "import operator\n",
    "import mysql.connector\n",
    "import sshtunnel\n",
    "import pureyaml\n",
    "\n",
    "# Handle path\n",
    "project_dir = !pwd  # dir of current script/notebook file\n",
    "config_file = open(project_dir[0] + \"/db.yaml\");\n",
    "config = pureyaml.load(config_file.read());\n",
    "\n",
    "# Argument dictionary for sshtunnel\n",
    "ssh_config = {\n",
    "    'ssh_address_or_host': ('parenthood.set.care', 22),\n",
    "    'ssh_username':        config['ssh_username'],\n",
    "    'ssh_password':        config['ssh_password'],\n",
    "    'remote_bind_address': ('127.0.0.1', 3306),\n",
    "    'local_bind_address':  ('0.0.0.0', 3333),\n",
    "}\n",
    "\n",
    "# Argument dictionary for mysql.connector\n",
    "mysql_config = {\n",
    "    'user':     config['mysql_user'],\n",
    "    'password': config['mysql_passwd'],\n",
    "    'host':     config['mysql_host'],\n",
    "    'database': 'patch',\n",
    "    'port':     3333,\n",
    "}\n",
    "\n",
    "# Connect to Parenthood server\n",
    "with sshtunnel.SSHTunnelForwarder(**ssh_config) as tunnel:\n",
    "    print('SSH tunneling successful on port: {}'.format(tunnel.local_bind_port))\n",
    "    connection = mysql.connector.connect(**mysql_config)\n",
    "    cur = connection.cursor()\n",
    "    print('MySQL server connected successfully!')"
   ]
  },
  {
   "cell_type": "markdown",
   "metadata": {},
   "source": [
    "## Test Function"
   ]
  },
  {
   "cell_type": "code",
   "execution_count": 3,
   "metadata": {},
   "outputs": [],
   "source": [
    "# --------------------------------------- Inputs: ---------------------------------------\n",
    "# 1) db_name:                database name in server\n",
    "# 2）table_name:             table name\n",
    "# 3) npi:                    npi column\n",
    "# --------------------------------------- Outputs: --------------------------------------\n",
    "# 1) Test result:  distinct NPI count.\n",
    "\n",
    "\n",
    "def compare_1(db_name, table_name, npi):\n",
    "\n",
    "    with sshtunnel.SSHTunnelForwarder(**ssh_config) as tunnel:\n",
    "        connection = mysql.connector.connect(**mysql_config)\n",
    "        cur = connection.cursor()\n",
    "        \n",
    "        # MySQL query to find distict NPI count\n",
    "        query = ('''\n",
    "                SELECT COUNT(DISTINCT {col1})\n",
    "                FROM {db}.{t1};\n",
    "        '''.format(db = db_name, t1 = table_name, col1 = npi))\n",
    "\n",
    "        cur.execute(query)\n",
    "        \n",
    "        print (\"The distinct NPI count in {}.{} is:\".format(db_name, table_name) + '\\n')        \n",
    "        for row in cur.fetchall():\n",
    "            for i in range(0,len(row)):\n",
    "                print (str(row[i]))\n",
    "            #print ('\\n')\n",
    "            \n",
    "        cur.close()\n",
    "        connection.close()            "
   ]
  },
  {
   "cell_type": "markdown",
   "metadata": {},
   "source": [
    "## Test Example"
   ]
  },
  {
   "cell_type": "code",
   "execution_count": 4,
   "metadata": {},
   "outputs": [
    {
     "name": "stdout",
     "output_type": "stream",
     "text": [
      "The distinct NPI count in _amy.test_data_good is:\n",
      "\n",
      "2000\n"
     ]
    }
   ],
   "source": [
    "compare_1('_amy', 'test_data_good', 'npi')"
   ]
  },
  {
   "cell_type": "code",
   "execution_count": 5,
   "metadata": {},
   "outputs": [
    {
     "name": "stdout",
     "output_type": "stream",
     "text": [
      "The distinct NPI count in _amy.test_data_bad1 is:\n",
      "\n",
      "981\n"
     ]
    }
   ],
   "source": [
    "compare_1('_amy', 'test_data_bad1', 'npi')"
   ]
  },
  {
   "cell_type": "code",
   "execution_count": 6,
   "metadata": {},
   "outputs": [
    {
     "name": "stdout",
     "output_type": "stream",
     "text": [
      "The distinct NPI count in _amy.test_data_bad2 is:\n",
      "\n",
      "596\n"
     ]
    }
   ],
   "source": [
    "compare_1('_amy', 'test_data_bad2', 'npi')"
   ]
  },
  {
   "cell_type": "markdown",
   "metadata": {},
   "source": [
    "## Internal Data Example"
   ]
  },
  {
   "cell_type": "code",
   "execution_count": 7,
   "metadata": {},
   "outputs": [
    {
     "name": "stdout",
     "output_type": "stream",
     "text": [
      "The distinct NPI count in npi_inst_icdproc.npi_inst_icdproc_RQ17 is:\n",
      "\n",
      "143358\n"
     ]
    }
   ],
   "source": [
    "compare_1('npi_inst_icdproc', 'npi_inst_icdproc_RQ17','npi')"
   ]
  },
  {
   "cell_type": "code",
   "execution_count": 6,
   "metadata": {},
   "outputs": [
    {
     "name": "stdout",
     "output_type": "stream",
     "text": [
      "The distinct NPI count in npi_inst_icdproc.npi_inst_icdproc_RIFS2010 is:\n",
      "\n",
      "117473\n"
     ]
    }
   ],
   "source": [
    "compare_1('npi_inst_icdproc', 'npi_inst_icdproc_RIFS2010','npi')"
   ]
  },
  {
   "cell_type": "code",
   "execution_count": 7,
   "metadata": {},
   "outputs": [
    {
     "name": "stdout",
     "output_type": "stream",
     "text": [
      "The distinct NPI count in npi_inst_icdproc.npi_inst_icdproc_RIFS2011 is:\n",
      "\n",
      "117012\n"
     ]
    }
   ],
   "source": [
    "compare_1('npi_inst_icdproc', 'npi_inst_icdproc_RIFS2011','npi')"
   ]
  },
  {
   "cell_type": "code",
   "execution_count": 8,
   "metadata": {},
   "outputs": [
    {
     "name": "stdout",
     "output_type": "stream",
     "text": [
      "The distinct NPI count in npi_inst_icdproc.npi_inst_icdproc_RIFS2012 is:\n",
      "\n",
      "113900\n"
     ]
    }
   ],
   "source": [
    "compare_1('npi_inst_icdproc', 'npi_inst_icdproc_RIFS2012','npi')"
   ]
  },
  {
   "cell_type": "code",
   "execution_count": 9,
   "metadata": {},
   "outputs": [
    {
     "name": "stdout",
     "output_type": "stream",
     "text": [
      "The distinct NPI count in npi_inst_icdproc.npi_inst_icdproc_RIFS2013 is:\n",
      "\n",
      "111848\n"
     ]
    }
   ],
   "source": [
    "compare_1('npi_inst_icdproc', 'npi_inst_icdproc_RIFS2013','npi')"
   ]
  },
  {
   "cell_type": "code",
   "execution_count": 10,
   "metadata": {},
   "outputs": [
    {
     "name": "stdout",
     "output_type": "stream",
     "text": [
      "The distinct NPI count in npi_inst_icdproc.npi_inst_icdproc_RIFQ2014 is:\n",
      "\n",
      "108650\n"
     ]
    }
   ],
   "source": [
    "compare_1('npi_inst_icdproc', 'npi_inst_icdproc_RIFQ2014','npi')"
   ]
  },
  {
   "cell_type": "code",
   "execution_count": 11,
   "metadata": {},
   "outputs": [
    {
     "name": "stdout",
     "output_type": "stream",
     "text": [
      "The distinct NPI count in npi_inst_icdproc.npi_inst_icdproc_RIFQ2015 is:\n",
      "\n",
      "86509\n"
     ]
    }
   ],
   "source": [
    "compare_1('npi_inst_icdproc', 'npi_inst_icdproc_RIFQ2015','npi')"
   ]
  },
  {
   "cell_type": "code",
   "execution_count": 12,
   "metadata": {},
   "outputs": [
    {
     "name": "stdout",
     "output_type": "stream",
     "text": [
      "The distinct NPI count in npi_inst_icdproc.npi_inst_icdproc_RIFQ2016 is:\n",
      "\n",
      "87948\n"
     ]
    }
   ],
   "source": [
    "compare_1('npi_inst_icdproc', 'npi_inst_icdproc_RIFQ2016','npi')"
   ]
  },
  {
   "cell_type": "code",
   "execution_count": 13,
   "metadata": {},
   "outputs": [
    {
     "name": "stdout",
     "output_type": "stream",
     "text": [
      "The distinct NPI count in npi_inst_icdproc.npi_inst_icdproc_16_17_6 is:\n",
      "\n",
      "93558\n"
     ]
    }
   ],
   "source": [
    "compare_1('npi_inst_icdproc', 'npi_inst_icdproc_16_17_6','npi')"
   ]
  },
  {
   "cell_type": "code",
   "execution_count": 14,
   "metadata": {},
   "outputs": [
    {
     "name": "stdout",
     "output_type": "stream",
     "text": [
      "The distinct NPI count in npi_inst_icdproc.npi_inst_icdproc_16_17_9 is:\n",
      "\n",
      "95043\n"
     ]
    }
   ],
   "source": [
    "compare_1('npi_inst_icdproc', 'npi_inst_icdproc_16_17_9','npi')"
   ]
  },
  {
   "cell_type": "code",
   "execution_count": null,
   "metadata": {},
   "outputs": [],
   "source": []
  },
  {
   "cell_type": "code",
   "execution_count": null,
   "metadata": {},
   "outputs": [],
   "source": []
  }
 ],
 "metadata": {
  "kernelspec": {
   "display_name": "Python 3",
   "language": "python",
   "name": "python3"
  },
  "language_info": {
   "codemirror_mode": {
    "name": "ipython",
    "version": 3
   },
   "file_extension": ".py",
   "mimetype": "text/x-python",
   "name": "python",
   "nbconvert_exporter": "python",
   "pygments_lexer": "ipython3",
   "version": "3.6.4"
  }
 },
 "nbformat": 4,
 "nbformat_minor": 2
}
