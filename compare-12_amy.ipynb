{
 "cells": [
  {
   "cell_type": "markdown",
   "metadata": {},
   "source": [
    "# Compare-12: compare NPI pair (from_npi, to_npi) count in 'undirected Hop teaming' to that in 'directed Hop teaming' and check the overlap pair count.\n",
    "\n",
    "Description: compare NPI pair (from_npi, to_npi) count in 'undirected Hop teaming' to that in 'directed Hop teaming' and check the overlap pair count.\n",
    "\n",
    "Starting Author: Amy Jin (amy@careset.com)\n",
    "\n",
    "Date: July 27th, 2018\n",
    "\n",
    "https://docs.google.com/spreadsheets/d/1IYg01IpssJaWHo6KxO4_dSDgXtYNFy41S5cIHFLvlGQ/edit#gid=604789549"
   ]
  },
  {
   "cell_type": "markdown",
   "metadata": {},
   "source": [
    "## Connection to Parenthood Server"
   ]
  },
  {
   "cell_type": "code",
   "execution_count": 1,
   "metadata": {},
   "outputs": [
    {
     "name": "stdout",
     "output_type": "stream",
     "text": [
      "SSH tunneling successful on port: 3333\n",
      "MySQL server connected successfully!\n"
     ]
    }
   ],
   "source": [
    "# Packages import\n",
    "import os\n",
    "import sys\n",
    "import numpy as np\n",
    "import pandas as pd\n",
    "from collections import Counter\n",
    "import operator\n",
    "import mysql.connector\n",
    "import sshtunnel\n",
    "import pureyaml\n",
    "\n",
    "# Handle path\n",
    "project_dir = !pwd  # dir of current script/notebook file\n",
    "config_file = open(project_dir[0] + \"/db.yaml\");\n",
    "config = pureyaml.load(config_file.read());\n",
    "\n",
    "# Argument dictionary for sshtunnel\n",
    "ssh_config = {\n",
    "    'ssh_address_or_host': ('parenthood.set.care', 22),\n",
    "    'ssh_username':        config['ssh_username'],\n",
    "    'ssh_password':        config['ssh_password'],\n",
    "    'remote_bind_address': ('127.0.0.1', 3306),\n",
    "    'local_bind_address':  ('0.0.0.0', 3333),\n",
    "}\n",
    "\n",
    "# Argument dictionary for mysql.connector\n",
    "mysql_config = {\n",
    "    'user':     config['mysql_user'],\n",
    "    'password': config['mysql_passwd'],\n",
    "    'host':     config['mysql_host'],\n",
    "    'database': 'patch',\n",
    "    'port':     3333,\n",
    "}\n",
    "\n",
    "# Connect to Parenthood server\n",
    "with sshtunnel.SSHTunnelForwarder(**ssh_config) as tunnel:\n",
    "    print('SSH tunneling successful on port: {}'.format(tunnel.local_bind_port))\n",
    "    connection = mysql.connector.connect(**mysql_config)\n",
    "    cur = connection.cursor()\n",
    "    print('MySQL server connected successfully!')"
   ]
  },
  {
   "cell_type": "markdown",
   "metadata": {},
   "source": [
    "## Test Function"
   ]
  },
  {
   "cell_type": "code",
   "execution_count": 2,
   "metadata": {},
   "outputs": [],
   "source": [
    "# --------------------------------------- Inputs: ---------------------------------------\n",
    "# 1) undirected_db:                 Hop teaming database name with undirected table\n",
    "# 2）undirected_table:              Hop teaming undirected table name\n",
    "# 3) undirected_npi:                Hop teaming npi column in undirected table\n",
    "# 4) undirected_npi_dest:           Hop teaming npi_dest column in undirected table\n",
    "\n",
    "# 1) directed_db:                   Hop teaming database name with directed table\n",
    "# 2）directed_table:                Hop teaming directed table name\n",
    "# 3) directed_npi:                  Hop teaming npi column in directed table\n",
    "# 4) directed_npi_dest:             Hop teaming npi_dest column in directed table\n",
    "# --------------------------------------- Outputs: --------------------------------------\n",
    "# Test result:  \n",
    "#    - Count of distinct (npi 1,npi 2) pair in both files\n",
    "#    - Count of distinct (npi,npi_dest) pair in hop teaming undirected table\n",
    "#    - Count of distinct (from_npi,to_npi) pair in hop teaming directed table\n",
    "\n",
    "def compare_12(undirected_db, undirected_table, undirected_npi, undirected_npi_dest,\\\n",
    "              directed_db, directed_table, directed_npi, directed_npi_dest):\n",
    "\n",
    "    with sshtunnel.SSHTunnelForwarder(**ssh_config) as tunnel:\n",
    "        connection = mysql.connector.connect(**mysql_config)\n",
    "        cur = connection.cursor()\n",
    "        \n",
    "        # MySQL query to find distinct count of NPI pair in both Hop undirected and directed\n",
    "        query = ('''\n",
    "            SELECT COUNT(*)\n",
    "            FROM {db}.{t} AS table1\n",
    "            JOIN {db2}.{t2} AS table2\n",
    "            ON (table1.{npi} = table2.{npi2} AND table1.{npi_dest} = table2.{npi_dest2})\n",
    "            OR (table1.{npi} = table2.{npi_dest2} AND table1.{npi_dest} = table2.{npi2});\n",
    "        '''.format(db = undirected_db, t = undirected_table, \\\n",
    "                   npi = undirected_npi, npi_dest = undirected_npi_dest, \\\n",
    "                   db2 = directed_db, t2 = directed_table, \\\n",
    "                   npi2 = directed_npi, npi_dest2 = directed_npi_dest))\n",
    "\n",
    "        cur.execute(query)\n",
    "    \n",
    "        print ('Count of distinct ({},{}) in both {}.{} and {}.{} is:'.format(undirected_npi, undirected_npi_dest, \\\n",
    "                                                                         undirected_db, undirected_table, \\\n",
    "                                                                         directed_db, directed_table))\n",
    "        \n",
    "        for row in cur.fetchall():\n",
    "            for i in range(0,len(row)):\n",
    "                print (str(row[i]))\n",
    "         \n",
    "        # MySQL query to find distinct count of NPI pair in Hop teaming undirected table\n",
    "        query = ('''\n",
    "                SELECT COUNT(*)\n",
    "                FROM (\n",
    "                       SELECT *\n",
    "                       FROM {db}.{t1} AS T1\n",
    "                       GROUP BY T1.{npi}, T1.{npi_dest}\n",
    "                     ) AS T2;\n",
    "        '''.format(db = undirected_db, t1 = undirected_table, npi = undirected_npi, npi_dest = undirected_npi_dest))\n",
    "\n",
    "        cur.execute(query)\n",
    "    \n",
    "        print ('Count of distinct ({},{}) pair in {}.{} is:'.format(undirected_npi, undirected_npi_dest,\\\n",
    "                                                                    undirected_db, undirected_table))\n",
    "        \n",
    "        for row in cur.fetchall():\n",
    "            for i in range(0,len(row)):\n",
    "                print (str(row[i]))\n",
    "\n",
    "        # MySQL query to find distinct count of NPI pair in Hop teaming directed table\n",
    "        query = ('''\n",
    "                SELECT COUNT(*)\n",
    "                FROM (\n",
    "                       SELECT *\n",
    "                       FROM {db}.{t1} AS T1\n",
    "                       GROUP BY T1.{npi}, T1.{npi_dest}\n",
    "                     ) AS T2;\n",
    "        '''.format(db = directed_db, t1 = directed_table, npi = directed_npi, npi_dest = directed_npi_dest))\n",
    "\n",
    "        cur.execute(query)\n",
    "    \n",
    "        print ('Count of distinct ({},{}) pair in {}.{} is:'.format(directed_npi, directed_npi_dest,\\\n",
    "                                                                    directed_db, directed_table))\n",
    "        \n",
    "        for row in cur.fetchall():\n",
    "            for i in range(0,len(row)):\n",
    "                print (str(row[i]))\n",
    "            \n",
    "        cur.close()\n",
    "        connection.close()"
   ]
  },
  {
   "cell_type": "markdown",
   "metadata": {},
   "source": [
    "## Test Example"
   ]
  },
  {
   "cell_type": "code",
   "execution_count": 10,
   "metadata": {},
   "outputs": [
    {
     "name": "stdout",
     "output_type": "stream",
     "text": [
      "Count of distinct (icd10cm,icd10cm) in both _amy.test_data_good and _amy.test_data_bad1 is:\n",
      "0\n",
      "Count of distinct (icd10cm,icd10cm) pair in _amy.test_data_good is:\n",
      "2000\n",
      "Count of distinct (icd_dgns_cd,icd_dgns_cd) pair in _amy.test_data_bad1 is:\n",
      "138\n"
     ]
    }
   ],
   "source": [
    "compare_12('_amy', 'test_data_good','icd10cm', \\\n",
    "          'icd10cm', \\\n",
    "         '_amy', 'test_data_bad1','icd_dgns_cd',\\\n",
    "         'icd_dgns_cd')"
   ]
  },
  {
   "cell_type": "markdown",
   "metadata": {},
   "source": [
    "## Internal Data Example\n",
    "\n",
    "SELECT COUNT(*)\n",
    "FROM npi_team_rootgraph_2014.undirected AS table1\n",
    "JOIN npi_team_rootgraph_2014.directed AS table2\n",
    "ON (table1.npi = table2.from_npi\n",
    "    AND table1.npi_dest = table2.to_npi); # 159132078\n",
    "\n",
    "SELECT COUNT(*)\n",
    "FROM npi_team_rootgraph_2014.undirected AS table1\n",
    "JOIN npi_team_rootgraph_2014.directed AS table2\n",
    "    ON (table1.npi = table2.to_npi\n",
    "    AND table1.npi_dest = table2.from_npi); # 159132078\n",
    "    \n",
    "SELECT COUNT(*)\n",
    "FROM npi_team_rootgraph_2014.undirected AS table1\n",
    "JOIN npi_team_rootgraph_2014.directed AS table2\n",
    "ON (table1.npi = table2.from_npi\n",
    "    AND table1.npi_dest = table2.to_npi) \n",
    "    OR (table1.npi = table2.to_npi\n",
    "    AND table1.npi_dest = table2.from_npi); # 208995654"
   ]
  },
  {
   "cell_type": "code",
   "execution_count": 4,
   "metadata": {},
   "outputs": [
    {
     "name": "stdout",
     "output_type": "stream",
     "text": [
      "Count of distinct (npi,npi_dest) in both npi_hop_RQ14.undirected and npi_hop_RQ14.directed is:\n",
      "208995654\n",
      "Count of distinct (npi,npi_dest) pair in npi_hop_RQ14.undirected is:\n",
      "123034516\n",
      "Count of distinct (from_npi,to_npi) pair in npi_hop_RQ14.directed is:\n",
      "104497827\n"
     ]
    }
   ],
   "source": [
    "compare_12('npi_hop_RQ14', 'undirected', \\\n",
    "           'npi', 'npi_dest',\\\n",
    "           'npi_hop_RQ14', 'directed', \\\n",
    "           'from_npi', 'to_npi')"
   ]
  }
 ],
 "metadata": {
  "kernelspec": {
   "display_name": "Python 3",
   "language": "python",
   "name": "python3"
  },
  "language_info": {
   "codemirror_mode": {
    "name": "ipython",
    "version": 3
   },
   "file_extension": ".py",
   "mimetype": "text/x-python",
   "name": "python",
   "nbconvert_exporter": "python",
   "pygments_lexer": "ipython3",
   "version": "3.6.4"
  }
 },
 "nbformat": 4,
 "nbformat_minor": 2
}
