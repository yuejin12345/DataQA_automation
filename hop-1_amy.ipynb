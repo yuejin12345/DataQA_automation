{
 "cells": [
  {
   "cell_type": "markdown",
   "metadata": {},
   "source": [
    "# HOP-1: volume (patient_count, claim_count) in undirected version of the hop teaming, (A,B) and (B,A) should be the same\n",
    "\n",
    "Description: volume of (A,B) and (B,A) in undirected version of the hop teaming should be the same. For example: \n",
    "* 1111(from npi), 2222(to npi), 45(patient count), 50(claim count) should be the same as \n",
    "* 2222(from npi), 1111(to npi), 45(patient count), 50(claim count). \n",
    "\n",
    "Starting Author: Amy Jin (amy@careset.com)\n",
    "\n",
    "Date: July 20th, 2018\n",
    "\n",
    "https://docs.google.com/spreadsheets/d/1IYg01IpssJaWHo6KxO4_dSDgXtYNFy41S5cIHFLvlGQ/edit#gid=604789549"
   ]
  },
  {
   "cell_type": "markdown",
   "metadata": {},
   "source": [
    "## Connection to Parenthood Server"
   ]
  },
  {
   "cell_type": "code",
   "execution_count": 5,
   "metadata": {},
   "outputs": [
    {
     "name": "stdout",
     "output_type": "stream",
     "text": [
      "SSH tunneling successful on port: 3333\n",
      "MySQL server connected successfully!\n"
     ]
    }
   ],
   "source": [
    "# Packages import\n",
    "import os\n",
    "import sys\n",
    "import numpy as np\n",
    "import pandas as pd\n",
    "from collections import Counter\n",
    "import operator\n",
    "import mysql.connector\n",
    "import sshtunnel\n",
    "import pureyaml\n",
    "\n",
    "# Handle path\n",
    "project_dir = !pwd  # dir of current script/notebook file\n",
    "config_file = open(project_dir[0] + \"/db.yaml\");\n",
    "config = pureyaml.load(config_file.read());\n",
    "\n",
    "# Argument dictionary for sshtunnel\n",
    "ssh_config = {\n",
    "    'ssh_address_or_host': ('parenthood.set.care', 22),\n",
    "    'ssh_username':        config['ssh_username'],\n",
    "    'ssh_password':        config['ssh_password'],\n",
    "    'remote_bind_address': ('127.0.0.1', 3306),\n",
    "    'local_bind_address':  ('0.0.0.0', 3333),\n",
    "}\n",
    "\n",
    "# Argument dictionary for mysql.connector\n",
    "mysql_config = {\n",
    "    'user':     config['mysql_user'],\n",
    "    'password': config['mysql_passwd'],\n",
    "    'host':     config['mysql_host'],\n",
    "    'database': 'patch',\n",
    "    'port':     3333,\n",
    "}\n",
    "\n",
    "# Connect to Parenthood server\n",
    "with sshtunnel.SSHTunnelForwarder(**ssh_config) as tunnel:\n",
    "    print('SSH tunneling successful on port: {}'.format(tunnel.local_bind_port))\n",
    "    connection = mysql.connector.connect(**mysql_config)\n",
    "    cur = connection.cursor()\n",
    "    print('MySQL server connected successfully!')"
   ]
  },
  {
   "cell_type": "markdown",
   "metadata": {},
   "source": [
    "## Test Function"
   ]
  },
  {
   "cell_type": "code",
   "execution_count": 6,
   "metadata": {},
   "outputs": [],
   "source": [
    "# --------------------------------------- Inputs: ---------------------------------------\n",
    "# 1) db_name:                database name in server\n",
    "# 2）table_name:             table name\n",
    "# 3) bene_cnt:               patient count column \n",
    "# 4) clm_cnt:                claim count column\n",
    "# 5) from_npi:               from npi column \n",
    "# 5) to_npi:                 to npi column \n",
    "# --------------------------------------- Outputs: --------------------------------------\n",
    "# 1) Test result:            PASS/FAIL\n",
    "# 2) If FAIL, the test will print out:\n",
    "#       - the total count of (from_npi, to_npi) pair fail the test and\n",
    "#       - total count of (from_npi, to_npi) pair in the table.\n",
    "\n",
    "\n",
    "def hop_1(db_name, table_name, bene_cnt, clm_cnt, from_npi, to_npi):\n",
    "\n",
    "    with sshtunnel.SSHTunnelForwarder(**ssh_config) as tunnel:\n",
    "        connection = mysql.connector.connect(**mysql_config)\n",
    "        cur = connection.cursor()\n",
    "        \n",
    "        query = ('''\n",
    "                SELECT COUNT(*)\n",
    "                FROM {db}.{t} AS t1\n",
    "                JOIN {db}.{t} AS t2\n",
    "                ON t1.{from_npi} = t2.{to_npi} AND t1.{to_npi} = t2.{from_npi}\n",
    "                WHERE t1.{col1} <> t2.{col1} OR t1.{col2} <> t2.{col2};\n",
    "        '''.format(db = db_name, t = table_name, col1 = bene_cnt, col2 = clm_cnt, from_npi = from_npi, to_npi = to_npi))\n",
    "\n",
    "        cur.execute(query)\n",
    "    \n",
    "        for row in cur.fetchall():\n",
    "            for i in range(0,len(row)):\n",
    "                if row[i] == 0:\n",
    "                    print (\"Hop-1 test result: PASS\" + '\\n')\n",
    "                else:\n",
    "                    print (\"Hop-1 test result: FAIL\"  + '\\n')\n",
    "                    print (\"The total count of ({}, {}) pair fail the test is:\".format(from_npi, to_npi)  + '\\n')  \n",
    "                    print (str(row[i]))\n",
    "\n",
    "                    query = ('''\n",
    "                            SELECT COUNT(*)\n",
    "                            FROM {db}.{t} AS t1;\n",
    "                    '''.format(db = db_name, t = table_name, col1 = bene_cnt, col2 = clm_cnt, from_npi = from_npi, to_npi = to_npi))\n",
    "\n",
    "                    cur.execute(query)\n",
    "\n",
    "                    print (\"The total count of (from_npi, to_npi) pair is:\" + '\\n')        \n",
    "                    for row in cur.fetchall():\n",
    "                        for i in range(0,len(row)):\n",
    "                            print (str(row[i]))\n",
    "                \n",
    "        cur.close()\n",
    "        connection.close()            "
   ]
  },
  {
   "cell_type": "markdown",
   "metadata": {},
   "source": [
    "## Test Example"
   ]
  },
  {
   "cell_type": "code",
   "execution_count": 7,
   "metadata": {},
   "outputs": [
    {
     "name": "stdout",
     "output_type": "stream",
     "text": [
      "Hop-1 test result: PASS\n",
      "\n"
     ]
    }
   ],
   "source": [
    "hop_1('_amy', 'test_hop_undirected_good', 'patient_count','transaction_count', 'npi', 'npi_DEST')"
   ]
  },
  {
   "cell_type": "code",
   "execution_count": 8,
   "metadata": {},
   "outputs": [
    {
     "name": "stdout",
     "output_type": "stream",
     "text": [
      "Hop-1 test result: FAIL\n",
      "\n",
      "The total count of (npi, npi_DEST) pair fail the test is:\n",
      "\n",
      "56\n",
      "The total count of (from_npi, to_npi) pair is:\n",
      "\n",
      "652\n"
     ]
    }
   ],
   "source": [
    "hop_1('_amy', 'test_hop_undirected_bad', 'patient_count','transaction_count', 'npi', 'npi_DEST')"
   ]
  },
  {
   "cell_type": "code",
   "execution_count": null,
   "metadata": {},
   "outputs": [],
   "source": []
  }
 ],
 "metadata": {
  "kernelspec": {
   "display_name": "Python 3",
   "language": "python",
   "name": "python3"
  },
  "language_info": {
   "codemirror_mode": {
    "name": "ipython",
    "version": 3
   },
   "file_extension": ".py",
   "mimetype": "text/x-python",
   "name": "python",
   "nbconvert_exporter": "python",
   "pygments_lexer": "ipython3",
   "version": "3.6.4"
  }
 },
 "nbformat": 4,
 "nbformat_minor": 2
}
