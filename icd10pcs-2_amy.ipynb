{
 "cells": [
  {
   "cell_type": "markdown",
   "metadata": {},
   "source": [
    "# ICD10PCS-2: First char of ICD should be (0, 1, 2, 3, 4, 5, 6, 7, 8, 9, B, C, D, F, G, H, X)\n",
    "\n",
    "QA step description: check if the first characteristic is valid. \n",
    "The valid first char of ICD code could be: (0, 1, 2, 3, 4, 5, 6, 7, 8, 9, B, C, D, F, G, H, X).\n",
    "\n",
    "Starting Author: Amy Jin (amy@careset.com)\n",
    "\n",
    "Date: April 16th, 2018\n",
    "\n",
    "https://docs.google.com/spreadsheets/d/1IYg01IpssJaWHo6KxO4_dSDgXtYNFy41S5cIHFLvlGQ/edit#gid=604789549"
   ]
  },
  {
   "cell_type": "markdown",
   "metadata": {},
   "source": [
    "## Connect to Parenthood Server"
   ]
  },
  {
   "cell_type": "code",
   "execution_count": 1,
   "metadata": {},
   "outputs": [
    {
     "name": "stdout",
     "output_type": "stream",
     "text": [
      "SSH tunneling successful on port: 3333\n",
      "MySQL server connected successfully!\n"
     ]
    }
   ],
   "source": [
    "# Packages import\n",
    "import os\n",
    "import sys\n",
    "import numpy as np\n",
    "import pandas as pd\n",
    "from collections import Counter\n",
    "import operator\n",
    "import mysql.connector\n",
    "import sshtunnel\n",
    "import pureyaml\n",
    "\n",
    "# Handle path\n",
    "project_dir = !pwd  # dir of current script/notebook file\n",
    "config_file = open(project_dir[0] + \"/db.yaml\");\n",
    "config = pureyaml.load(config_file.read());\n",
    "\n",
    "# Argument dictionary for sshtunnel\n",
    "ssh_config = {\n",
    "    'ssh_address_or_host': ('parenthood.set.care', 22),\n",
    "    'ssh_username':        config['ssh_username'],\n",
    "    'ssh_password':        config['ssh_password'],\n",
    "    'remote_bind_address': ('127.0.0.1', 3306),\n",
    "    'local_bind_address':  ('0.0.0.0', 3333),\n",
    "}\n",
    "\n",
    "# Argument dictionary for mysql.connector\n",
    "mysql_config = {\n",
    "    'user':     config['mysql_user'],\n",
    "    'password': config['mysql_passwd'],\n",
    "    'host':     config['mysql_host'],\n",
    "    'database': 'patch',\n",
    "    'port':     3333,\n",
    "}\n",
    "\n",
    "# Connect to Parenthood server\n",
    "with sshtunnel.SSHTunnelForwarder(**ssh_config) as tunnel:\n",
    "    print('SSH tunneling successful on port: {}'.format(tunnel.local_bind_port))\n",
    "    connection = mysql.connector.connect(**mysql_config)\n",
    "    cur = connection.cursor()\n",
    "    print('MySQL server connected successfully!')"
   ]
  },
  {
   "cell_type": "markdown",
   "metadata": {},
   "source": [
    "## Test Function"
   ]
  },
  {
   "cell_type": "code",
   "execution_count": 5,
   "metadata": {},
   "outputs": [],
   "source": [
    "# --------------------------------------- Inputs: ---------------------------------------\n",
    "# 1) db_name:                database name in server\n",
    "# 2）table_name:             table name\n",
    "# 3) col_name:               column to test\n",
    "# --------------------------------------- Outputs: --------------------------------------\n",
    "# 1) Test result:            PASS/FAIL\n",
    "# 2) If FAIL, the test will print out disinct bad ICD codes.\n",
    "\n",
    "\n",
    "def icd10pcs_2(db_name, table_name, col_name):\n",
    "    #table1 = str(db_name) + '.' + str(table_name)\n",
    "    with sshtunnel.SSHTunnelForwarder(**ssh_config) as tunnel:\n",
    "        connection = mysql.connector.connect(**mysql_config)\n",
    "        cur = connection.cursor()\n",
    "        print ('Test file: {}.{}'.format(db_name, table_name))\n",
    "        print ('\\n')        \n",
    "        query = ('''\n",
    "            SELECT *\n",
    "            FROM {db}.{t1}\n",
    "            WHERE   {col1} NOT LIKE '0%' \n",
    "                AND {col1} NOT LIKE '1%' \n",
    "                AND {col1} NOT LIKE '2%' \n",
    "                AND {col1} NOT LIKE '3%' \n",
    "                AND {col1} NOT LIKE '4%' \n",
    "                AND {col1} NOT LIKE '5%' \n",
    "                AND {col1} NOT LIKE '6%' \n",
    "                AND {col1} NOT LIKE '7%' \n",
    "                AND {col1} NOT LIKE '8%' \n",
    "                AND {col1} NOT LIKE '9%' \n",
    "                AND {col1} NOT LIKE 'b%' \n",
    "                AND {col1} NOT LIKE 'c%' \n",
    "                AND {col1} NOT LIKE 'd%' \n",
    "                AND {col1} NOT LIKE 'f%' \n",
    "                AND {col1} NOT LIKE 'g%' \n",
    "                AND {col1} NOT LIKE 'h%' \n",
    "                AND {col1} NOT LIKE 'x%' \n",
    "                AND {col1} NOT LIKE 'B%' \n",
    "                AND {col1} NOT LIKE 'C%' \n",
    "                AND {col1} NOT LIKE 'D%' \n",
    "                AND {col1} NOT LIKE 'F%' \n",
    "                AND {col1} NOT LIKE 'G%' \n",
    "                AND {col1} NOT LIKE 'H%' \n",
    "                AND {col1} NOT LIKE 'X%' \n",
    "            LIMIT 1;\n",
    "        '''.format(db = db_name, t1 = table_name, col1 = col_name))\n",
    "\n",
    "        cur.execute(query)\n",
    "        rows = list(sum(cur.fetchall(), ()))\n",
    "\n",
    "        \n",
    "        if not len(rows):\n",
    "            print (\"Test result: PASS\")\n",
    "        else:\n",
    "            print (\"Test result: FAIL\" + '\\n')\n",
    "            print (\"The count of rows with blank {} is:\".format(col_name) + '\\n')\n",
    "            # MySQL query to get bad ICD codes\n",
    "            query = ('''\n",
    "                SELECT DISTINCT {col1}\n",
    "                FROM {db}.{t1}\n",
    "                WHERE   {col1} NOT LIKE '0%' \n",
    "                    AND {col1} NOT LIKE '1%' \n",
    "                    AND {col1} NOT LIKE '2%' \n",
    "                    AND {col1} NOT LIKE '3%' \n",
    "                    AND {col1} NOT LIKE '4%' \n",
    "                    AND {col1} NOT LIKE '5%' \n",
    "                    AND {col1} NOT LIKE '6%' \n",
    "                    AND {col1} NOT LIKE '7%' \n",
    "                    AND {col1} NOT LIKE '8%' \n",
    "                    AND {col1} NOT LIKE '9%' \n",
    "                    AND {col1} NOT LIKE 'b%' \n",
    "                    AND {col1} NOT LIKE 'c%' \n",
    "                    AND {col1} NOT LIKE 'd%' \n",
    "                    AND {col1} NOT LIKE 'f%' \n",
    "                    AND {col1} NOT LIKE 'g%' \n",
    "                    AND {col1} NOT LIKE 'h%' \n",
    "                    AND {col1} NOT LIKE 'x%' \n",
    "                    AND {col1} NOT LIKE 'B%' \n",
    "                    AND {col1} NOT LIKE 'C%' \n",
    "                    AND {col1} NOT LIKE 'D%' \n",
    "                    AND {col1} NOT LIKE 'F%' \n",
    "                    AND {col1} NOT LIKE 'G%' \n",
    "                    AND {col1} NOT LIKE 'H%' \n",
    "                    AND {col1} NOT LIKE 'X%' ;\n",
    "            '''.format(db = db_name, t1 = table_name, col1 = col_name))\n",
    "\n",
    "            cur.execute(query)\n",
    "            \n",
    "            for row in cur.fetchall():\n",
    "                for i in range(0,len(row)):\n",
    "                    print (str(row[i]), end=\", \")\n",
    "                print ('\\n')\n",
    "            \n",
    "        cur.close()\n",
    "        connection.close()"
   ]
  },
  {
   "cell_type": "markdown",
   "metadata": {},
   "source": [
    "## Test Example"
   ]
  },
  {
   "cell_type": "code",
   "execution_count": 6,
   "metadata": {},
   "outputs": [
    {
     "name": "stdout",
     "output_type": "stream",
     "text": [
      "Test file: npi_inst_icdproc.npi_inst_icdproc_RQ17\n",
      "\n",
      "\n",
      "Test result: PASS\n"
     ]
    }
   ],
   "source": [
    "icd10pcs_2('npi_inst_icdproc', 'npi_inst_icdproc_RQ17','icd_prcdr_cd')"
   ]
  },
  {
   "cell_type": "code",
   "execution_count": 7,
   "metadata": {},
   "outputs": [
    {
     "name": "stdout",
     "output_type": "stream",
     "text": [
      "Test file: _amy.test_data_bad1\n",
      "\n",
      "\n",
      "Test result: FAIL\n",
      "\n",
      "The count of rows with blank icd_dgns_cd is:\n",
      "\n",
      "U, \n",
      "\n",
      "U0, \n",
      "\n",
      ", \n",
      "\n"
     ]
    }
   ],
   "source": [
    "icd10pcs_2('_amy', 'test_data_bad1','icd_dgns_cd')"
   ]
  },
  {
   "cell_type": "code",
   "execution_count": null,
   "metadata": {},
   "outputs": [],
   "source": []
  },
  {
   "cell_type": "code",
   "execution_count": null,
   "metadata": {},
   "outputs": [],
   "source": []
  }
 ],
 "metadata": {
  "kernelspec": {
   "display_name": "Python 3",
   "language": "python",
   "name": "python3"
  },
  "language_info": {
   "codemirror_mode": {
    "name": "ipython",
    "version": 3
   },
   "file_extension": ".py",
   "mimetype": "text/x-python",
   "name": "python",
   "nbconvert_exporter": "python",
   "pygments_lexer": "ipython3",
   "version": "3.6.4"
  }
 },
 "nbformat": 4,
 "nbformat_minor": 2
}
