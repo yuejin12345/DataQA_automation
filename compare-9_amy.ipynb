{
 "cells": [
  {
   "cell_type": "markdown",
   "metadata": {},
   "source": [
    "# Compare-9: if test compare-3 fails, then check if the same NPI has similar claim count for consecutive timespans\n",
    "\n",
    "Description: if test Compare-3 fails, then check if the same NPI has similar claim count for consecutive timespans.\n",
    "\n",
    "Starting Author: Amy Jin (amy@careset.com)\n",
    "\n",
    "Date: July 27th, 2018\n",
    "\n",
    "https://docs.google.com/spreadsheets/d/1IYg01IpssJaWHo6KxO4_dSDgXtYNFy41S5cIHFLvlGQ/edit#gid=604789549"
   ]
  },
  {
   "cell_type": "markdown",
   "metadata": {},
   "source": [
    "## Connect to Parenthood Server"
   ]
  },
  {
   "cell_type": "code",
   "execution_count": 2,
   "metadata": {},
   "outputs": [
    {
     "name": "stdout",
     "output_type": "stream",
     "text": [
      "SSH tunneling successful on port: 3333\n",
      "MySQL server connected successfully!\n"
     ]
    }
   ],
   "source": [
    "# Packages import\n",
    "import os\n",
    "import sys\n",
    "import numpy as np\n",
    "import pandas as pd\n",
    "from collections import Counter\n",
    "import operator\n",
    "import mysql.connector\n",
    "import sshtunnel\n",
    "import pureyaml\n",
    "\n",
    "# Handle path\n",
    "project_dir = !pwd  # dir of current script/notebook file\n",
    "config_file = open(project_dir[0] + \"/db.yaml\");\n",
    "config = pureyaml.load(config_file.read());\n",
    "\n",
    "# Argument dictionary for sshtunnel\n",
    "ssh_config = {\n",
    "    'ssh_address_or_host': ('parenthood.set.care', 22),\n",
    "    'ssh_username':        config['ssh_username'],\n",
    "    'ssh_password':        config['ssh_password'],\n",
    "    'remote_bind_address': ('127.0.0.1', 3306),\n",
    "    'local_bind_address':  ('0.0.0.0', 3333),\n",
    "}\n",
    "\n",
    "# Argument dictionary for mysql.connector\n",
    "mysql_config = {\n",
    "    'user':     config['mysql_user'],\n",
    "    'password': config['mysql_passwd'],\n",
    "    'host':     config['mysql_host'],\n",
    "    'database': 'patch',\n",
    "    'port':     3333,\n",
    "}\n",
    "\n",
    "# Connect to Parenthood server\n",
    "with sshtunnel.SSHTunnelForwarder(**ssh_config) as tunnel:\n",
    "    print('SSH tunneling successful on port: {}'.format(tunnel.local_bind_port))\n",
    "    connection = mysql.connector.connect(**mysql_config)\n",
    "    cur = connection.cursor()\n",
    "    print('MySQL server connected successfully!')"
   ]
  },
  {
   "cell_type": "markdown",
   "metadata": {},
   "source": [
    "## Test Function"
   ]
  },
  {
   "cell_type": "code",
   "execution_count": 3,
   "metadata": {},
   "outputs": [],
   "source": [
    "# --------------------------------------- Inputs: ---------------------------------------\n",
    "# 1) db_name1:                database name of table 1\n",
    "# 2）table_name1:             table 1 name\n",
    "# 3) col_name1:               test column in table 1\n",
    "# 4) key1_1:                  key 1 of table 1\n",
    "# 5) key1_2:                  key 2 of table 1\n",
    "# 6) key1_3:                  key 3 of table 1\n",
    "\n",
    "# 7) db_name2:                database name of table 2\n",
    "# 8）table_name2:             table 2 name\n",
    "# 9) col_name2:               test column in table 2\n",
    "# 10) key2_1:                 key 1 of table 1\n",
    "# 11) key2_2:                 key 2 of table 2\n",
    "# 12) key2_3:                 key 3 of table 3\n",
    "# --------------------------------------- Outputs: --------------------------------------\n",
    "# 1) Test result:   \n",
    "#       - total claim count in table 1 of NPIs appearing in both file\n",
    "#       - total claim count in table 2 of NPIs appearing in both file\n",
    "\n",
    "\n",
    "def compare_9(db_name1, table_name1, col_name1, \\\n",
    "              key1_1, key1_2, key1_3, key1_4,\\\n",
    "              db_name2, table_name2, col_name2, \\\n",
    "              key2_1, key2_2, key2_3 , key2_4):\n",
    "    \n",
    "    with sshtunnel.SSHTunnelForwarder(**ssh_config) as tunnel:\n",
    "        connection = mysql.connector.connect(**mysql_config)\n",
    "        cur = connection.cursor()\n",
    "        \n",
    "        query = ('''\n",
    "            SELECT SUM(table1.{col1})\n",
    "            FROM {db1}.{t1} AS table1\n",
    "            JOIN {db2}.{t2} AS table2\n",
    "            ON table1.{key1_1} = table2.{key2_1} \n",
    "                AND table1.{key1_2} = table2.{key2_2} \n",
    "                AND table1.{key1_3} = table2.{key2_3}\n",
    "                AND table1.{key1_4} = table2.{key2_4};\n",
    "        '''.format(db1 = db_name1, t1 = table_name1, col1 = col_name1, key1_1 = key1_1, key1_2 = key1_2, key1_3 = key1_3, key1_4 = key1_4, db2 = db_name2, t2 = table_name2, col2 = col_name2, key2_1 = key2_1, key2_2 = key2_2, key2_3 = key2_3, key2_4= key2_4 ))\n",
    "\n",
    "        cur.execute(query)\n",
    "    \n",
    "        print ('Total {} in {}.{} of NPIs appearing in both files is:'.format(col_name1, db_name1, table_name1))\n",
    "        \n",
    "        for row in cur.fetchall():\n",
    "            for i in range(0,len(row)):\n",
    "                print (str(row[i]))\n",
    "\n",
    "        query = ('''\n",
    "            SELECT SUM(table2.{col2})\n",
    "            FROM {db1}.{t1} AS table1\n",
    "            JOIN {db2}.{t2} AS table2\n",
    "            ON table1.{key1_1} = table2.{key2_1} \n",
    "                AND table1.{key1_2} = table2.{key2_2} \n",
    "                AND table1.{key1_3} = table2.{key2_3}\n",
    "                AND table1.{key1_4} = table2.{key2_4};\n",
    "        '''.format(db1 = db_name1, t1 = table_name1, col1 = col_name1, key1_1 = key1_1, key1_2 = key1_2, key1_3 = key1_3, key1_4 = key1_4, db2 = db_name2, t2 = table_name2, col2 = col_name2, key2_1 = key2_1, key2_2 = key2_2, key2_3 = key2_3, key2_4= key2_4 ))\n",
    "\n",
    "        cur.execute(query)\n",
    "    \n",
    "        print ('Total {} in {}.{} of NPIs appearing in both files is:'.format(col_name2, db_name2, table_name2))\n",
    "        \n",
    "        for row in cur.fetchall():\n",
    "            for i in range(0,len(row)):\n",
    "                print (str(row[i]))\n",
    "            \n",
    "        cur.close()\n",
    "        connection.close()"
   ]
  },
  {
   "cell_type": "markdown",
   "metadata": {},
   "source": [
    "## Test Example"
   ]
  },
  {
   "cell_type": "code",
   "execution_count": 4,
   "metadata": {},
   "outputs": [
    {
     "name": "stdout",
     "output_type": "stream",
     "text": [
      "Total cnt_clm_id in _amy.test_data_good of NPIs appearing in both files is:\n",
      "None\n",
      "Total cnt_clm_id in _amy.test_data_bad1 of NPIs appearing in both files is:\n",
      "None\n"
     ]
    }
   ],
   "source": [
    "compare_9('_amy', 'test_data_good', 'cnt_clm_id', \\\n",
    "         'npi','npi_dest','setting', 'hcpcs_cd', \\\n",
    "         '_amy', 'test_data_bad1', 'cnt_clm_id', \\\n",
    "         'npi','npi_dest','setting', 'hcpcs_cd')"
   ]
  },
  {
   "cell_type": "markdown",
   "metadata": {},
   "source": [
    "## Internal Data Example"
   ]
  },
  {
   "cell_type": "code",
   "execution_count": null,
   "metadata": {},
   "outputs": [],
   "source": [
    "compare_9('npi_inst_icdproc', 'npi_inst_icdproc_RQ17','cnt_clm_id', \\\n",
    "         'npi','npi_class', 'icd_prcdr_cd','setting',\\\n",
    "         'npi_inst_icdproc', 'npi_inst_icdproc_RIFQ2016','cnt_clm_id', \\\n",
    "         'npi','npi_class', 'icd_prcdr_cd','setting')"
   ]
  }
 ],
 "metadata": {
  "kernelspec": {
   "display_name": "Python 3",
   "language": "python",
   "name": "python3"
  },
  "language_info": {
   "codemirror_mode": {
    "name": "ipython",
    "version": 3
   },
   "file_extension": ".py",
   "mimetype": "text/x-python",
   "name": "python",
   "nbconvert_exporter": "python",
   "pygments_lexer": "ipython3",
   "version": "3.6.4"
  }
 },
 "nbformat": 4,
 "nbformat_minor": 2
}
