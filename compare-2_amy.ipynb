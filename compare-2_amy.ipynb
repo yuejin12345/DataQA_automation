{
 "cells": [
  {
   "cell_type": "markdown",
   "metadata": {},
   "source": [
    "# Compare-2: total patient counts are similar for consecutive timespans. If test fail, then check Compare-12 and Compare-13.\n",
    "\n",
    "Description: check if total patient counts are similar for consecutive timespans. If test fail, then check Compare-12 and Compare-13.\n",
    "\n",
    "Starting Author: Amy Jin (amy@careset.com)\n",
    "\n",
    "Date: April 16th, 2018\n",
    "\n",
    "https://docs.google.com/spreadsheets/d/1IYg01IpssJaWHo6KxO4_dSDgXtYNFy41S5cIHFLvlGQ/edit#gid=604789549"
   ]
  },
  {
   "cell_type": "markdown",
   "metadata": {},
   "source": [
    "## Connection to Parenthood Server"
   ]
  },
  {
   "cell_type": "code",
   "execution_count": 1,
   "metadata": {},
   "outputs": [
    {
     "name": "stdout",
     "output_type": "stream",
     "text": [
      "SSH tunneling successful on port: 3333\n",
      "MySQL server connected successfully!\n"
     ]
    }
   ],
   "source": [
    "# Packages import\n",
    "import os\n",
    "import sys\n",
    "import numpy as np\n",
    "import pandas as pd\n",
    "from collections import Counter\n",
    "import operator\n",
    "import mysql.connector\n",
    "import sshtunnel\n",
    "import pureyaml\n",
    "\n",
    "# Handle path\n",
    "project_dir = !pwd  # dir of current script/notebook file\n",
    "config_file = open(project_dir[0] + \"/db.yaml\");\n",
    "config = pureyaml.load(config_file.read());\n",
    "\n",
    "# Argument dictionary for sshtunnel\n",
    "ssh_config = {\n",
    "    'ssh_address_or_host': ('parenthood.set.care', 22),\n",
    "    'ssh_username':        config['ssh_username'],\n",
    "    'ssh_password':        config['ssh_password'],\n",
    "    'remote_bind_address': ('127.0.0.1', 3306),\n",
    "    'local_bind_address':  ('0.0.0.0', 3333),\n",
    "}\n",
    "\n",
    "# Argument dictionary for mysql.connector\n",
    "mysql_config = {\n",
    "    'user':     config['mysql_user'],\n",
    "    'password': config['mysql_passwd'],\n",
    "    'host':     config['mysql_host'],\n",
    "    'database': 'patch',\n",
    "    'port':     3333,\n",
    "}\n",
    "\n",
    "# Connect to Parenthood server\n",
    "with sshtunnel.SSHTunnelForwarder(**ssh_config) as tunnel:\n",
    "    print('SSH tunneling successful on port: {}'.format(tunnel.local_bind_port))\n",
    "    connection = mysql.connector.connect(**mysql_config)\n",
    "    cur = connection.cursor()\n",
    "    print('MySQL server connected successfully!')"
   ]
  },
  {
   "cell_type": "markdown",
   "metadata": {},
   "source": [
    "## Test Function"
   ]
  },
  {
   "cell_type": "code",
   "execution_count": 2,
   "metadata": {},
   "outputs": [],
   "source": [
    "# --------------------------------------- Inputs: ---------------------------------------\n",
    "# 1) db_name:                database name in server\n",
    "# 2）table_name:             table name\n",
    "# 3) npi:                    npi column\n",
    "# --------------------------------------- Outputs: --------------------------------------\n",
    "# 1) Test result:  total patient count.\n",
    "\n",
    "\n",
    "def compare_2(db_name, table_name, bene_cnt):\n",
    "    #table1 = str(db_name) + '.' + str(table_name)\n",
    "    with sshtunnel.SSHTunnelForwarder(**ssh_config) as tunnel:\n",
    "        connection = mysql.connector.connect(**mysql_config)\n",
    "        cur = connection.cursor()\n",
    "        \n",
    "        # MySQL query to calculate total patient count\n",
    "        query = ('''\n",
    "                SELECT SUM({col1})\n",
    "                FROM {db}.{t1};\n",
    "        '''.format(db = db_name, t1 = table_name, col1 = bene_cnt))\n",
    "\n",
    "        cur.execute(query)\n",
    "        \n",
    "        print (\"The total {} of {}.{} is:\".format(bene_cnt, db_name, table_name) + '\\n')        \n",
    "        for row in cur.fetchall():\n",
    "            for i in range(0,len(row)):\n",
    "                print (str(row[i]))\n",
    "\n",
    "        cur.close()\n",
    "        connection.close()            "
   ]
  },
  {
   "cell_type": "markdown",
   "metadata": {},
   "source": [
    "## Test Example"
   ]
  },
  {
   "cell_type": "code",
   "execution_count": 3,
   "metadata": {},
   "outputs": [
    {
     "name": "stdout",
     "output_type": "stream",
     "text": [
      "The total cnt_bene_id of _amy.test_data_good is:\n",
      "\n",
      "5085\n"
     ]
    }
   ],
   "source": [
    "compare_2('_amy', 'test_data_good', 'cnt_bene_id')"
   ]
  },
  {
   "cell_type": "code",
   "execution_count": 4,
   "metadata": {},
   "outputs": [
    {
     "name": "stdout",
     "output_type": "stream",
     "text": [
      "The total cnt_bene_id of _amy.test_data_bad1 is:\n",
      "\n",
      "9932\n"
     ]
    }
   ],
   "source": [
    "compare_2('_amy', 'test_data_bad1', 'cnt_bene_id')"
   ]
  },
  {
   "cell_type": "code",
   "execution_count": 5,
   "metadata": {},
   "outputs": [
    {
     "name": "stdout",
     "output_type": "stream",
     "text": [
      "The total cnt_bene_id of _amy.test_data_bad2 is:\n",
      "\n",
      "4777\n"
     ]
    }
   ],
   "source": [
    "compare_2('_amy', 'test_data_bad2', 'cnt_bene_id')"
   ]
  },
  {
   "cell_type": "markdown",
   "metadata": {},
   "source": [
    "## Internal Data Example\n",
    "\n",
    "Compute total patient of HOP Teaming 2014, 2015 and 2016.\n",
    "\n",
    "#### The total patient count of HOP Teaming 2014 is:"
   ]
  },
  {
   "cell_type": "code",
   "execution_count": 4,
   "metadata": {},
   "outputs": [
    {
     "name": "stdout",
     "output_type": "stream",
     "text": [
      "The total patient_count of npi_hop_RQ14.directed is:\n",
      "\n",
      "4202171126\n"
     ]
    }
   ],
   "source": [
    "compare_2('npi_hop_RQ14', 'directed', 'patient_count')"
   ]
  },
  {
   "cell_type": "markdown",
   "metadata": {},
   "source": [
    "#### The total patient count of HOP Teaming 2015 is:"
   ]
  },
  {
   "cell_type": "code",
   "execution_count": 9,
   "metadata": {},
   "outputs": [
    {
     "name": "stdout",
     "output_type": "stream",
     "text": [
      "The total patient_count of npi_hop_RQ15.directed is:\n",
      "\n",
      "4194552053\n"
     ]
    }
   ],
   "source": [
    "compare_2('npi_hop_RQ15', 'directed', 'patient_count')"
   ]
  },
  {
   "cell_type": "markdown",
   "metadata": {},
   "source": [
    "#### The total patient count of HOP Teaming 2016 is:"
   ]
  },
  {
   "cell_type": "code",
   "execution_count": 10,
   "metadata": {},
   "outputs": [
    {
     "name": "stdout",
     "output_type": "stream",
     "text": [
      "The total patient_count of npi_hop_RQ16.directed is:\n",
      "\n",
      "5866538297\n"
     ]
    }
   ],
   "source": [
    "compare_2('npi_hop_RQ16', 'directed', 'patient_count')"
   ]
  },
  {
   "cell_type": "markdown",
   "metadata": {},
   "source": [
    "#### The total patient count of HOP Teaming 2017 is:"
   ]
  },
  {
   "cell_type": "code",
   "execution_count": 11,
   "metadata": {},
   "outputs": [
    {
     "name": "stdout",
     "output_type": "stream",
     "text": [
      "The total patient_count of npi_hop_RQ17.directed is:\n",
      "\n",
      "10001727587\n"
     ]
    }
   ],
   "source": [
    "compare_2('npi_hop_RQ17', 'directed', 'patient_count')"
   ]
  }
 ],
 "metadata": {
  "kernelspec": {
   "display_name": "Python 3",
   "language": "python",
   "name": "python3"
  },
  "language_info": {
   "codemirror_mode": {
    "name": "ipython",
    "version": 3
   },
   "file_extension": ".py",
   "mimetype": "text/x-python",
   "name": "python",
   "nbconvert_exporter": "python",
   "pygments_lexer": "ipython3",
   "version": "3.6.4"
  }
 },
 "nbformat": 4,
 "nbformat_minor": 2
}
