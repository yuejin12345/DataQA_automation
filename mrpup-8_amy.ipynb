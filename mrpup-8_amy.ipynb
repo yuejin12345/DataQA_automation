{
 "cells": [
  {
   "cell_type": "markdown",
   "metadata": {},
   "source": [
    "# MrPUP-8: for v2, look at the difference of claim counts between \"O\" NPI and  \"P\" NPI\n",
    "\n",
    "QA step description: for v2 look at the difference of claim counts between \"O\" NPI and  \"P\" NPI\n",
    "\n",
    "Starting Author: Amy Jin (amy@careset.com)\n",
    "\n",
    "Date: July 16th, 2018\n",
    "\n",
    "https://docs.google.com/spreadsheets/d/1IYg01IpssJaWHo6KxO4_dSDgXtYNFy41S5cIHFLvlGQ/edit#gid=604789549"
   ]
  },
  {
   "cell_type": "markdown",
   "metadata": {},
   "source": [
    "## Connection to Parenthood Server"
   ]
  },
  {
   "cell_type": "code",
   "execution_count": 2,
   "metadata": {},
   "outputs": [
    {
     "name": "stdout",
     "output_type": "stream",
     "text": [
      "SSH tunneling successful on port: 3333\n",
      "MySQL server connected successfully!\n"
     ]
    }
   ],
   "source": [
    "# Packages import\n",
    "import os\n",
    "import sys\n",
    "import numpy as np\n",
    "import pandas as pd\n",
    "from collections import Counter\n",
    "import operator\n",
    "import mysql.connector\n",
    "import sshtunnel\n",
    "import pureyaml\n",
    "\n",
    "# Handle path\n",
    "project_dir = !pwd  # dir of current script/notebook file\n",
    "config_file = open(project_dir[0] + \"/db.yaml\");\n",
    "config = pureyaml.load(config_file.read());\n",
    "\n",
    "# Argument dictionary for sshtunnel\n",
    "ssh_config = {\n",
    "    'ssh_address_or_host': ('parenthood.set.care', 22),\n",
    "    'ssh_username':        config['ssh_username'],\n",
    "    'ssh_password':        config['ssh_password'],\n",
    "    'remote_bind_address': ('127.0.0.1', 3306),\n",
    "    'local_bind_address':  ('0.0.0.0', 3333),\n",
    "}\n",
    "\n",
    "# Argument dictionary for mysql.connector\n",
    "mysql_config = {\n",
    "    'user':     config['mysql_user'],\n",
    "    'password': config['mysql_passwd'],\n",
    "    'host':     config['mysql_host'],\n",
    "    'database': 'patch',\n",
    "    'port':     3333,\n",
    "}\n",
    "\n",
    "# Connect to Parenthood server\n",
    "with sshtunnel.SSHTunnelForwarder(**ssh_config) as tunnel:\n",
    "    print('SSH tunneling successful on port: {}'.format(tunnel.local_bind_port))\n",
    "    connection = mysql.connector.connect(**mysql_config)\n",
    "    cur = connection.cursor()\n",
    "    print('MySQL server connected successfully!')"
   ]
  },
  {
   "cell_type": "markdown",
   "metadata": {},
   "source": [
    "## Test Function"
   ]
  },
  {
   "cell_type": "code",
   "execution_count": 3,
   "metadata": {},
   "outputs": [],
   "source": [
    "# --------------------------------------- Inputs: ---------------------------------------\n",
    "# 1) db_onpi:                database name with ONPI\n",
    "# 2）table_onpi:             table name with ONPI\n",
    "# 3) col_onpi:               patient count of ONPI\n",
    "\n",
    "# 4) db_pnpi:                database name with PNPI\n",
    "# 5) table_pnpi:             table name with ONPI\n",
    "# 6）col_pnpi：               patient count of ONPI\n",
    "# --------------------------------------- Outputs: --------------------------------------\n",
    "# 1) The test will print out:\n",
    "#       - the total claim count of ONPI in MrPUP V2 and \n",
    "#       - the total claim count of PNPI in MrPUP V2\n",
    "\n",
    "\n",
    "def mrpup_8(db_onpi, table_onpi, col_onpi, db_pnpi, table_pnpi, col_pnpi):\n",
    "    #table1 = str(db_name) + '.' + str(table_name)\n",
    "    with sshtunnel.SSHTunnelForwarder(**ssh_config) as tunnel:\n",
    "        connection = mysql.connector.connect(**mysql_config)\n",
    "        cur = connection.cursor()\n",
    "            \n",
    "\n",
    "        # MySQL to get total claim count of onpi \n",
    "        query = ('''\n",
    "                SELECT sum({col1})\n",
    "                FROM {db1}.{t1} AS V1;\n",
    "        ''').format(db1 = db_onpi, t1 = table_onpi, col1 = col_onpi)\n",
    "        cur.execute(query)\n",
    "\n",
    "        print (\"The total {} in {}.{} is: \".format(col_onpi, db_onpi, table_onpi) + '\\n')\n",
    "        for row in cur.fetchall():\n",
    "            for i in range(0,len(row)):\n",
    "                print (str(row[i]))\n",
    "            print ('\\n')\n",
    "            \n",
    "        # MySQL to get total claim count of pnpi  \n",
    "        query = ('''\n",
    "                SELECT sum({col1})\n",
    "                FROM {db1}.{t1} AS V1;\n",
    "        ''').format(db1 = db_pnpi, t1 = table_pnpi, col1 = col_pnpi)\n",
    "        cur.execute(query)\n",
    "\n",
    "        print (\"The total {} in {}.{} is: \".format(col_pnpi, db_pnpi, table_pnpi) + '\\n')\n",
    "        for row in cur.fetchall():\n",
    "            for i in range(0,len(row)):\n",
    "                print (str(row[i]))\n",
    "            print ('\\n')\n",
    "            \n",
    "        cur.close()\n",
    "        connection.close()"
   ]
  },
  {
   "cell_type": "markdown",
   "metadata": {},
   "source": [
    "## Test Example"
   ]
  },
  {
   "cell_type": "code",
   "execution_count": 4,
   "metadata": {},
   "outputs": [
    {
     "name": "stdout",
     "output_type": "stream",
     "text": [
      "The total cnt_clm_id in _amy.test_mrpup_good is: \n",
      "\n",
      "5845\n",
      "\n",
      "\n",
      "The total cnt_clm_id in _amy.test_mrpup_bad is: \n",
      "\n",
      "5845\n",
      "\n",
      "\n"
     ]
    }
   ],
   "source": [
    "mrpup_8('_amy', 'test_mrpup_good', 'cnt_clm_id', \\\n",
    "       '_amy', 'test_mrpup_bad', 'cnt_clm_id')"
   ]
  },
  {
   "cell_type": "markdown",
   "metadata": {},
   "source": [
    "## Internal Data Test Example"
   ]
  },
  {
   "cell_type": "code",
   "execution_count": 5,
   "metadata": {},
   "outputs": [
    {
     "name": "stdout",
     "output_type": "stream",
     "text": [
      "The number of claim count in ONPI V2 is: \n",
      "\n",
      "740249271\n",
      "\n",
      "\n",
      "The number of claim count in PNPI V2 is: \n",
      "\n",
      "841441918\n",
      "\n",
      "\n"
     ]
    }
   ],
   "source": [
    "mrpup_8('mrpup_carr', 'mrpup_two_npi_rfr_prf_RQ17', 'cnt_clm_id', \\\n",
    "        'mrpup_carr', 'mrpup_two_npi_rfr_blg_RQ17', 'cnt_clm_id')"
   ]
  }
 ],
 "metadata": {
  "kernelspec": {
   "display_name": "Python 3",
   "language": "python",
   "name": "python3"
  },
  "language_info": {
   "codemirror_mode": {
    "name": "ipython",
    "version": 3
   },
   "file_extension": ".py",
   "mimetype": "text/x-python",
   "name": "python",
   "nbconvert_exporter": "python",
   "pygments_lexer": "ipython3",
   "version": "3.6.4"
  }
 },
 "nbformat": 4,
 "nbformat_minor": 2
}
