{
 "cells": [
  {
   "cell_type": "markdown",
   "metadata": {},
   "source": [
    "# ICD10CM-3: first char of ICD is a letter (except for 'U')\n",
    "\n",
    "QA step description: Check if the first-letter is valid. \n",
    "The valid first char of ICD code are: [a-t, v-z, A-T, V-Z]\n",
    "\n",
    "Starting Author: Amy Jin (amy@careset.com)\n",
    "\n",
    "Date: April 16th, 2018\n",
    "\n",
    "https://docs.google.com/spreadsheets/d/1sltXNV5CDfkClTs23rCgOSImqeZDIjJJoTZQwtDvZ18/edit#gid=0"
   ]
  },
  {
   "cell_type": "markdown",
   "metadata": {},
   "source": [
    "## Connect to Parenthood Server"
   ]
  },
  {
   "cell_type": "code",
   "execution_count": 1,
   "metadata": {},
   "outputs": [
    {
     "name": "stdout",
     "output_type": "stream",
     "text": [
      "SSH tunneling successful on port: 3333\n",
      "MySQL server connected successfully!\n"
     ]
    }
   ],
   "source": [
    "# Packages import\n",
    "import os\n",
    "import sys\n",
    "import numpy as np\n",
    "import pandas as pd\n",
    "from collections import Counter\n",
    "import operator\n",
    "import mysql.connector\n",
    "import sshtunnel\n",
    "import pureyaml\n",
    "\n",
    "# Handle path\n",
    "project_dir = !pwd  # dir of current script/notebook file\n",
    "config_file = open(project_dir[0] + \"/db.yaml\");\n",
    "config = pureyaml.load(config_file.read());\n",
    "\n",
    "# Argument dictionary for sshtunnel\n",
    "ssh_config = {\n",
    "    'ssh_address_or_host': ('parenthood.set.care', 22),\n",
    "    'ssh_username':        config['ssh_username'],\n",
    "    'ssh_password':        config['ssh_password'],\n",
    "    'remote_bind_address': ('127.0.0.1', 3306),\n",
    "    'local_bind_address':  ('0.0.0.0', 3333),\n",
    "}\n",
    "\n",
    "# Argument dictionary for mysql.connector\n",
    "mysql_config = {\n",
    "    'user':     config['mysql_user'],\n",
    "    'password': config['mysql_passwd'],\n",
    "    'host':     config['mysql_host'],\n",
    "    'database': 'patch',\n",
    "    'port':     3333,\n",
    "}\n",
    "\n",
    "# Connect to Parenthood server\n",
    "with sshtunnel.SSHTunnelForwarder(**ssh_config) as tunnel:\n",
    "    print('SSH tunneling successful on port: {}'.format(tunnel.local_bind_port))\n",
    "    connection = mysql.connector.connect(**mysql_config)\n",
    "    cur = connection.cursor()\n",
    "    print('MySQL server connected successfully!')"
   ]
  },
  {
   "cell_type": "markdown",
   "metadata": {},
   "source": [
    "## Test Function"
   ]
  },
  {
   "cell_type": "code",
   "execution_count": 2,
   "metadata": {},
   "outputs": [],
   "source": [
    "# --------------------------------------- Inputs: ---------------------------------------\n",
    "# 1) db_name:                database name in server\n",
    "# 2）table_name:             table name\n",
    "# 3) col_name:               column to test\n",
    "# --------------------------------------- Outputs: --------------------------------------\n",
    "# 1) Test result:            PASS/FAIL\n",
    "# 2) If FAIL, the test will print out all distinct bad ICD codes.\n",
    "\n",
    "\n",
    "def icd10cm_3(db_name, table_name, col_name):\n",
    "    #table1 = str(db_name) + '.' + str(table_name)\n",
    "    with sshtunnel.SSHTunnelForwarder(**ssh_config) as tunnel:\n",
    "        connection = mysql.connector.connect(**mysql_config)\n",
    "        cur = connection.cursor()\n",
    "        print ('Test file: {}.{}'.format(db_name, table_name))\n",
    "        print ('\\n')        \n",
    "        query = ('''\n",
    "            SELECT *\n",
    "            FROM {db}.{t1}\n",
    "            WHERE   {col1} NOT LIKE 'a%' \n",
    "                AND {col1} NOT LIKE 'b%' \n",
    "                AND {col1} NOT LIKE 'c%' \n",
    "                AND {col1} NOT LIKE 'd%' \n",
    "                AND {col1} NOT LIKE 'e%' \n",
    "                AND {col1} NOT LIKE 'f%' \n",
    "                AND {col1} NOT LIKE 'g%' \n",
    "                AND {col1} NOT LIKE 'h%' \n",
    "                AND {col1} NOT LIKE 'i%' \n",
    "                AND {col1} NOT LIKE 'j%' \n",
    "                AND {col1} NOT LIKE 'k%' \n",
    "                AND {col1} NOT LIKE 'l%' \n",
    "                AND {col1} NOT LIKE 'm%' \n",
    "                AND {col1} NOT LIKE 'n%' \n",
    "                AND {col1} NOT LIKE 'o%' \n",
    "                AND {col1} NOT LIKE 'p%' \n",
    "                AND {col1} NOT LIKE 'q%' \n",
    "                AND {col1} NOT LIKE 'r%' \n",
    "                AND {col1} NOT LIKE 's%' \n",
    "                AND {col1} NOT LIKE 't%' \n",
    "                AND {col1} NOT LIKE 'v%' \n",
    "                AND {col1} NOT LIKE 'w%' \n",
    "                AND {col1} NOT LIKE 'x%' \n",
    "                AND {col1} NOT LIKE 'y%' \n",
    "                AND {col1} NOT LIKE 'z%' \n",
    "                AND {col1} NOT LIKE 'A%' \n",
    "                AND {col1} NOT LIKE 'B%' \n",
    "                AND {col1} NOT LIKE 'C%' \n",
    "                AND {col1} NOT LIKE 'D%' \n",
    "                AND {col1} NOT LIKE 'E%' \n",
    "                AND {col1} NOT LIKE 'F%' \n",
    "                AND {col1} NOT LIKE 'G%' \n",
    "                AND {col1} NOT LIKE 'H%' \n",
    "                AND {col1} NOT LIKE 'I%' \n",
    "                AND {col1} NOT LIKE 'J%' \n",
    "                AND {col1} NOT LIKE 'K%' \n",
    "                AND {col1} NOT LIKE 'L%' \n",
    "                AND {col1} NOT LIKE 'M%' \n",
    "                AND {col1} NOT LIKE 'N%' \n",
    "                AND {col1} NOT LIKE 'O%' \n",
    "                AND {col1} NOT LIKE 'P%' \n",
    "                AND {col1} NOT LIKE 'Q%' \n",
    "                AND {col1} NOT LIKE 'R%' \n",
    "                AND {col1} NOT LIKE 'S%' \n",
    "                AND {col1} NOT LIKE 'T%' \n",
    "                AND {col1} NOT LIKE 'V%' \n",
    "                AND {col1} NOT LIKE 'W%' \n",
    "                AND {col1} NOT LIKE 'X%' \n",
    "                AND {col1} NOT LIKE 'Y%' \n",
    "                AND {col1} NOT LIKE 'Z%' \n",
    "            LIMIT 1;\n",
    "        '''.format(db = db_name, t1 = table_name, col1 = col_name))\n",
    "\n",
    "        cur.execute(query)\n",
    "        rows = list(sum(cur.fetchall(), ()))\n",
    "\n",
    "        \n",
    "        if not len(rows):\n",
    "            print (\"Test result: PASS\")\n",
    "        else:\n",
    "            print (\"Test result: FAIL\" + '\\n')\n",
    "            print (\"The following {} fail the test:\".format(col_name) + '\\n')\n",
    "            \n",
    "            # MySQL query to get the distinct bad ICD codes\n",
    "            query = ('''\n",
    "                SELECT DISTINCT {col1}\n",
    "                FROM {db}.{t1}\n",
    "                 WHERE   {col1} NOT LIKE 'a%' \n",
    "                    AND {col1} NOT LIKE 'b%' \n",
    "                    AND {col1} NOT LIKE 'c%' \n",
    "                    AND {col1} NOT LIKE 'd%' \n",
    "                    AND {col1} NOT LIKE 'e%' \n",
    "                    AND {col1} NOT LIKE 'f%' \n",
    "                    AND {col1} NOT LIKE 'g%' \n",
    "                    AND {col1} NOT LIKE 'h%' \n",
    "                    AND {col1} NOT LIKE 'i%' \n",
    "                    AND {col1} NOT LIKE 'j%' \n",
    "                    AND {col1} NOT LIKE 'k%' \n",
    "                    AND {col1} NOT LIKE 'l%' \n",
    "                    AND {col1} NOT LIKE 'm%' \n",
    "                    AND {col1} NOT LIKE 'n%' \n",
    "                    AND {col1} NOT LIKE 'o%' \n",
    "                    AND {col1} NOT LIKE 'p%' \n",
    "                    AND {col1} NOT LIKE 'q%' \n",
    "                    AND {col1} NOT LIKE 'r%' \n",
    "                    AND {col1} NOT LIKE 's%' \n",
    "                    AND {col1} NOT LIKE 't%' \n",
    "                    AND {col1} NOT LIKE 'v%' \n",
    "                    AND {col1} NOT LIKE 'w%' \n",
    "                    AND {col1} NOT LIKE 'x%' \n",
    "                    AND {col1} NOT LIKE 'y%' \n",
    "                    AND {col1} NOT LIKE 'z%' \n",
    "                    AND {col1} NOT LIKE 'A%' \n",
    "                    AND {col1} NOT LIKE 'B%' \n",
    "                    AND {col1} NOT LIKE 'C%' \n",
    "                    AND {col1} NOT LIKE 'D%' \n",
    "                    AND {col1} NOT LIKE 'E%' \n",
    "                    AND {col1} NOT LIKE 'F%' \n",
    "                    AND {col1} NOT LIKE 'G%' \n",
    "                    AND {col1} NOT LIKE 'H%' \n",
    "                    AND {col1} NOT LIKE 'I%' \n",
    "                    AND {col1} NOT LIKE 'J%' \n",
    "                    AND {col1} NOT LIKE 'K%' \n",
    "                    AND {col1} NOT LIKE 'L%' \n",
    "                    AND {col1} NOT LIKE 'M%' \n",
    "                    AND {col1} NOT LIKE 'N%' \n",
    "                    AND {col1} NOT LIKE 'O%' \n",
    "                    AND {col1} NOT LIKE 'P%' \n",
    "                    AND {col1} NOT LIKE 'Q%' \n",
    "                    AND {col1} NOT LIKE 'R%' \n",
    "                    AND {col1} NOT LIKE 'S%' \n",
    "                    AND {col1} NOT LIKE 'T%' \n",
    "                    AND {col1} NOT LIKE 'V%' \n",
    "                    AND {col1} NOT LIKE 'W%' \n",
    "                    AND {col1} NOT LIKE 'X%' \n",
    "                    AND {col1} NOT LIKE 'Y%' \n",
    "                    AND {col1} NOT LIKE 'Z%';\n",
    "                '''.format(db = db_name, t1 = table_name, col1 = col_name))\n",
    "\n",
    "            cur.execute(query)\n",
    "            \n",
    "            for row in cur.fetchall():\n",
    "                for i in range(0,len(row)):\n",
    "                    print (str(row[i]), end=\", \")\n",
    "                print ('\\n')\n",
    "            \n",
    "        cur.close()\n",
    "        connection.close()"
   ]
  },
  {
   "cell_type": "markdown",
   "metadata": {},
   "source": [
    "## Test Example"
   ]
  },
  {
   "cell_type": "code",
   "execution_count": 3,
   "metadata": {},
   "outputs": [
    {
     "name": "stdout",
     "output_type": "stream",
     "text": [
      "Test file: _amy.test_data_good\n",
      "\n",
      "\n",
      "Test result: PASS\n"
     ]
    }
   ],
   "source": [
    "icd10cm_3('_amy', 'test_data_good','icd10cm')"
   ]
  },
  {
   "cell_type": "code",
   "execution_count": 4,
   "metadata": {},
   "outputs": [
    {
     "name": "stdout",
     "output_type": "stream",
     "text": [
      "Test file: _amy.test_data_bad1\n",
      "\n",
      "\n",
      "Test result: FAIL\n",
      "\n",
      "The following icd_dgns_cd fail the test:\n",
      "\n",
      "U, \n",
      "\n",
      "U0, \n",
      "\n",
      ", \n",
      "\n",
      "11111111, \n",
      "\n"
     ]
    }
   ],
   "source": [
    "icd10cm_3('_amy', 'test_data_bad1','icd_dgns_cd')"
   ]
  },
  {
   "cell_type": "code",
   "execution_count": null,
   "metadata": {},
   "outputs": [],
   "source": []
  },
  {
   "cell_type": "code",
   "execution_count": null,
   "metadata": {},
   "outputs": [],
   "source": []
  }
 ],
 "metadata": {
  "kernelspec": {
   "display_name": "Python 3",
   "language": "python",
   "name": "python3"
  },
  "language_info": {
   "codemirror_mode": {
    "name": "ipython",
    "version": 3
   },
   "file_extension": ".py",
   "mimetype": "text/x-python",
   "name": "python",
   "nbconvert_exporter": "python",
   "pygments_lexer": "ipython3",
   "version": "3.6.4"
  }
 },
 "nbformat": 4,
 "nbformat_minor": 2
}
