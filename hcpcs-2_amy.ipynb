{
 "cells": [
  {
   "cell_type": "markdown",
   "metadata": {},
   "source": [
    "# HCPCS-2: HCPCS is in National Institutional Outpatient file\n",
    "\n",
    "Description: check if most of the HCPCS codes exist in the National Institutional Outpatient file.\n",
    "\n",
    "Starting Author: Amy Jin (amy@careset.com)\n",
    "\n",
    "Date: May 2nd, 2018\n",
    "\n",
    "https://docs.google.com/spreadsheets/d/1IYg01IpssJaWHo6KxO4_dSDgXtYNFy41S5cIHFLvlGQ/edit#gid=604789549"
   ]
  },
  {
   "cell_type": "markdown",
   "metadata": {},
   "source": [
    "## Connection to Parenthood Server"
   ]
  },
  {
   "cell_type": "code",
   "execution_count": 1,
   "metadata": {},
   "outputs": [
    {
     "name": "stdout",
     "output_type": "stream",
     "text": [
      "SSH tunneling successful on port: 3333\n",
      "MySQL server connected successfully!\n"
     ]
    }
   ],
   "source": [
    "# Packages import\n",
    "import os\n",
    "import sys\n",
    "import numpy as np\n",
    "import pandas as pd\n",
    "from collections import Counter\n",
    "import operator\n",
    "import mysql.connector\n",
    "import sshtunnel\n",
    "import pureyaml\n",
    "\n",
    "# Handle path\n",
    "project_dir = !pwd  # dir of current script/notebook file\n",
    "config_file = open(project_dir[0] + \"/db.yaml\");\n",
    "config = pureyaml.load(config_file.read());\n",
    "\n",
    "# Argument dictionary for sshtunnel\n",
    "ssh_config = {\n",
    "    'ssh_address_or_host': ('parenthood.set.care', 22),\n",
    "    'ssh_username':        config['ssh_username'],\n",
    "    'ssh_password':        config['ssh_password'],\n",
    "    'remote_bind_address': ('127.0.0.1', 3306),\n",
    "    'local_bind_address':  ('0.0.0.0', 3333),\n",
    "}\n",
    "\n",
    "# Argument dictionary for mysql.connector\n",
    "mysql_config = {\n",
    "    'user':     config['mysql_user'],\n",
    "    'password': config['mysql_passwd'],\n",
    "    'host':     config['mysql_host'],\n",
    "    'database': 'patch',\n",
    "    'port':     3333,\n",
    "}\n",
    "\n",
    "# Connect to Parenthood server\n",
    "with sshtunnel.SSHTunnelForwarder(**ssh_config) as tunnel:\n",
    "    print('SSH tunneling successful on port: {}'.format(tunnel.local_bind_port))\n",
    "    connection = mysql.connector.connect(**mysql_config)\n",
    "    cur = connection.cursor()\n",
    "    print('MySQL server connected successfully!')"
   ]
  },
  {
   "cell_type": "markdown",
   "metadata": {},
   "source": [
    "## Test Function"
   ]
  },
  {
   "cell_type": "code",
   "execution_count": 2,
   "metadata": {},
   "outputs": [],
   "source": [
    "# --------------------------------------- Inputs: ---------------------------------------\n",
    "# 1) db_name:                database name in server\n",
    "# 2）table_name:             table name\n",
    "# 3) col_name:               column to test\n",
    "# --------------------------------------- Outputs: --------------------------------------\n",
    "# 1) The test will print out:\n",
    "#       - distinct count of HCPCSs that are not in National Institutional Outpatient and\n",
    "#       - total distinct number of HCPCSs.\n",
    "\n",
    "\n",
    "def hcpcs_2(db_name, table_name, col_name):\n",
    "    \n",
    "    with sshtunnel.SSHTunnelForwarder(**ssh_config) as tunnel:\n",
    "        connection = mysql.connector.connect(**mysql_config)\n",
    "        cur = connection.cursor()\n",
    "        print ('Test file: {}.{}'.format(db_name, table_name))\n",
    "        print ('\\n')\n",
    "        \n",
    "        # MySQL query to get distinct count of HCPCSs that are not in National Institutional Outpatient\n",
    "        query = ('''\n",
    "                SELECT COUNT(DISTINCT A.{col1})\n",
    "                FROM {db}.{t1} AS A\n",
    "                  LEFT JOIN (\n",
    "                              SELECT *\n",
    "                              FROM hcpcs_global_carrier.hcpcs_global_carrier_RIFQ2016\n",
    "                              WHERE hcpcs_cd IS NOT NULL AND hcpcs_cd <> ''\n",
    "                              UNION\n",
    "                              SELECT *\n",
    "                              FROM hcpcs_global_carrier.hcpcs_global_carrier_RQ17_YTD_6\n",
    "                              WHERE hcpcs_cd IS NOT NULL AND hcpcs_cd <> ''\n",
    "                              UNION\n",
    "                              SELECT *\n",
    "                              FROM hcpcs_global_carrier.hcpcs_global_carrier_RIFQ2015\n",
    "                              WHERE hcpcs_cd IS NOT NULL AND hcpcs_cd <> ''\n",
    "                              UNION\n",
    "                              SELECT *\n",
    "                              FROM hcpcs_global_carrier.hcpcs_global_carrier_16_17_6\n",
    "                              WHERE hcpcs_cd IS NOT NULL AND hcpcs_cd <> ''\n",
    "                              UNION\n",
    "                              SELECT *\n",
    "                              FROM hcpcs_global_carrier.hcpcs_global_carrier_RQ17_YTD_9\n",
    "                              WHERE hcpcs_cd IS NOT NULL AND hcpcs_cd <> ''\n",
    "                            ) AS B\n",
    "                    ON A.{col1} = B.hcpcs_cd\n",
    "                WHERE B.hcpcs_cd IS NULL;\n",
    "        '''.format(db = db_name, t1 = table_name, col1 = col_name))\n",
    "\n",
    "        cur.execute(query)\n",
    "       \n",
    "        print (\"The distinct count of HCPCSs that are not in National Institutional Outpatient is:\" + '\\n')\n",
    "            \n",
    "        for row in cur.fetchall():\n",
    "            for i in range(0,len(row)):\n",
    "                print (str(row[i]))\n",
    "            print ('\\n')\n",
    "            \n",
    "        # MySQL query to get total distinct count of HCPCSs\n",
    "        query = ('''\n",
    "                SELECT COUNT(DISTINCT {col1})\n",
    "                FROM {db}.{t1} AS A;\n",
    "        '''.format(db = db_name, t1 = table_name, col1 = col_name))\n",
    "\n",
    "        cur.execute(query)\n",
    "        \n",
    "        print (\"The distinct count of HCPCSs in {} is:\".format(table_name) )\n",
    "            \n",
    "        for row in cur.fetchall():\n",
    "            for i in range(0,len(row)):\n",
    "                print (str(row[i]))\n",
    "            print ('\\n')\n",
    "            \n",
    "        cur.close()\n",
    "        connection.close()"
   ]
  },
  {
   "cell_type": "markdown",
   "metadata": {},
   "source": [
    "## Test Example"
   ]
  },
  {
   "cell_type": "code",
   "execution_count": 3,
   "metadata": {},
   "outputs": [
    {
     "name": "stdout",
     "output_type": "stream",
     "text": [
      "Test file: _amy.test_data_good\n",
      "\n",
      "\n",
      "The distinct count of HCPCSs that are not in National Institutional Outpatient is:\n",
      "\n",
      "654\n",
      "\n",
      "\n",
      "The distinct count of HCPCSs in test_data_good is:\n",
      "2000\n",
      "\n",
      "\n"
     ]
    }
   ],
   "source": [
    "hcpcs_2('_amy', 'test_data_good','hcpcs_cd')"
   ]
  },
  {
   "cell_type": "code",
   "execution_count": 4,
   "metadata": {},
   "outputs": [
    {
     "name": "stdout",
     "output_type": "stream",
     "text": [
      "Test file: _amy.test_data_bad1\n",
      "\n",
      "\n",
      "The distinct count of HCPCSs that are not in National Institutional Outpatient is:\n",
      "\n",
      "199\n",
      "\n",
      "\n",
      "The distinct count of HCPCSs in test_data_bad1 is:\n",
      "1084\n",
      "\n",
      "\n"
     ]
    }
   ],
   "source": [
    "hcpcs_2('_amy', 'test_data_bad1','hcpcs_cd')"
   ]
  },
  {
   "cell_type": "code",
   "execution_count": null,
   "metadata": {},
   "outputs": [],
   "source": []
  }
 ],
 "metadata": {
  "kernelspec": {
   "display_name": "Python 3",
   "language": "python",
   "name": "python3"
  },
  "language_info": {
   "codemirror_mode": {
    "name": "ipython",
    "version": 3
   },
   "file_extension": ".py",
   "mimetype": "text/x-python",
   "name": "python",
   "nbconvert_exporter": "python",
   "pygments_lexer": "ipython3",
   "version": "3.6.4"
  }
 },
 "nbformat": 4,
 "nbformat_minor": 2
}
