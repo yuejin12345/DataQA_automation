{
 "cells": [
  {
   "cell_type": "markdown",
   "metadata": {},
   "source": [
    "# NPI-2: NPI is in PECOS\n",
    "\n",
    "Description: checking coverage rate of NPIs existing on NPPES. Test pass if coverage is reasonable. \n",
    "\n",
    "Starting Author: Amy Jin (amy@careset.com)\n",
    "\n",
    "Date: April 30th, 2018\n",
    "\n",
    "https://docs.google.com/spreadsheets/d/1IYg01IpssJaWHo6KxO4_dSDgXtYNFy41S5cIHFLvlGQ/edit#gid=604789549"
   ]
  },
  {
   "cell_type": "markdown",
   "metadata": {},
   "source": [
    "## Connection to Parenthood Server"
   ]
  },
  {
   "cell_type": "code",
   "execution_count": 1,
   "metadata": {},
   "outputs": [
    {
     "name": "stdout",
     "output_type": "stream",
     "text": [
      "SSH tunneling successful on port: 3333\n",
      "MySQL server connected successfully!\n"
     ]
    }
   ],
   "source": [
    "# Packages import\n",
    "import os\n",
    "import sys\n",
    "import numpy as np\n",
    "import pandas as pd\n",
    "from collections import Counter\n",
    "import operator\n",
    "import mysql.connector\n",
    "import sshtunnel\n",
    "import pureyaml\n",
    "\n",
    "# Handle path\n",
    "project_dir = !pwd  # dir of current script/notebook file\n",
    "config_file = open(project_dir[0] + \"/db.yaml\");\n",
    "config = pureyaml.load(config_file.read());\n",
    "\n",
    "# Argument dictionary for sshtunnel\n",
    "ssh_config = {\n",
    "    'ssh_address_or_host': ('parenthood.set.care', 22),\n",
    "    'ssh_username':        config['ssh_username'],\n",
    "    'ssh_password':        config['ssh_password'],\n",
    "    'remote_bind_address': ('127.0.0.1', 3306),\n",
    "    'local_bind_address':  ('0.0.0.0', 3333),\n",
    "}\n",
    "\n",
    "# Argument dictionary for mysql.connector\n",
    "mysql_config = {\n",
    "    'user':     config['mysql_user'],\n",
    "    'password': config['mysql_passwd'],\n",
    "    'host':     config['mysql_host'],\n",
    "    'database': 'patch',\n",
    "    'port':     3333,\n",
    "}\n",
    "\n",
    "# Connect to Parenthood server\n",
    "with sshtunnel.SSHTunnelForwarder(**ssh_config) as tunnel:\n",
    "    print('SSH tunneling successful on port: {}'.format(tunnel.local_bind_port))\n",
    "    connection = mysql.connector.connect(**mysql_config)\n",
    "    cur = connection.cursor()\n",
    "    print('MySQL server connected successfully!')"
   ]
  },
  {
   "cell_type": "markdown",
   "metadata": {},
   "source": [
    "## Test Function"
   ]
  },
  {
   "cell_type": "code",
   "execution_count": 3,
   "metadata": {},
   "outputs": [],
   "source": [
    "# --------------------------------------- Inputs: ---------------------------------------\n",
    "# 1) db_name:                database name in server\n",
    "# 2）table_name:             table name\n",
    "# 3) col_name:               column to test\n",
    "# --------------------------------------- Outputs: --------------------------------------\n",
    "# 1) Test result:\n",
    "#     - the number of distinct npi that are not in PECOS and \n",
    "#     - total number of distinct npi in the testing file\n",
    "\n",
    "\n",
    "def npi_2(db_name, table_name, col_name):\n",
    "    \n",
    "    with sshtunnel.SSHTunnelForwarder(**ssh_config) as tunnel:\n",
    "        connection = mysql.connector.connect(**mysql_config)\n",
    "        cur = connection.cursor()\n",
    "            \n",
    "\n",
    "        # MySQL query to get distinct count of NPIs in the file and also in PECOS\n",
    "        query = ('''\n",
    "                SELECT COUNT(DISTINCT A.{col1})\n",
    "                FROM {db}.{t1} AS A\n",
    "                LEFT JOIN npi_pecos.pecos AS B\n",
    "                ON A.{col1} = B.npi\n",
    "                WHERE B.npi IS NULL AND A.{col1} NOT LIKE '99999%';\n",
    "        '''.format(db = db_name, t1 = table_name, col1 = col_name))\n",
    "        \n",
    "        cur.execute(query)\n",
    "\n",
    "        print (\"The number of distinct {} that are not in pecos.pecos is:\".format(col_name) + '\\n')\n",
    "        for row in cur.fetchall():\n",
    "            for i in range(0,len(row)):\n",
    "                print (str(row[i]))\n",
    "            print ('\\n')\n",
    " \n",
    "        # MySQL query to get distinct count of NPIs in the file\n",
    "        query = ('''\n",
    "                SELECT COUNT(DISTINCT A.{col1})\n",
    "                FROM {db}.{t1} AS A\n",
    "                WHERE A.{col1} NOT LIKE '99999%';\n",
    "        '''.format(db = db_name, t1 = table_name, col1 = col_name))\n",
    "        \n",
    "        cur.execute(query)\n",
    "\n",
    "        print (\"The number of distinct {} in {}.{} is:\".format(col_name,db_name, table_name) + '\\n')\n",
    "        for row in cur.fetchall():\n",
    "            for i in range(0,len(row)):\n",
    "                print (str(row[i]))\n",
    "            print ('\\n')\n",
    "            \n",
    "        cur.close()\n",
    "        connection.close()"
   ]
  },
  {
   "cell_type": "markdown",
   "metadata": {},
   "source": [
    "## Test Example"
   ]
  },
  {
   "cell_type": "code",
   "execution_count": 4,
   "metadata": {},
   "outputs": [
    {
     "name": "stdout",
     "output_type": "stream",
     "text": [
      "The number of distinct npi that are not in pecos.pecos is:\n",
      "\n",
      "424063\n",
      "\n",
      "\n",
      "The number of distinct npi in npi_hcpcs_merged_v2.npi_hcpcs_merged_v2_RQ18_YTD_3 is:\n",
      "\n",
      "1106620\n",
      "\n",
      "\n"
     ]
    }
   ],
   "source": [
    "npi_2('npi_hcpcs_merged_v2', 'npi_hcpcs_merged_v2_RQ18_YTD_3', 'npi')"
   ]
  },
  {
   "cell_type": "code",
   "execution_count": 5,
   "metadata": {},
   "outputs": [],
   "source": [
    "# --------------------------------------- Inputs: ---------------------------------------\n",
    "# 1) db_name:                database name in server\n",
    "# 2）table_name:             table name\n",
    "# 3) col_name:               column to test\n",
    "# --------------------------------------- Outputs: --------------------------------------\n",
    "# 1) Test result:\n",
    "#     - the number of distinct npi that are not in PECOS and \n",
    "#     - total number of distinct npi in the testing file\n",
    "\n",
    "\n",
    "def npi_2(db_name, table_name, col_name):\n",
    "    \n",
    "    with sshtunnel.SSHTunnelForwarder(**ssh_config) as tunnel:\n",
    "        connection = mysql.connector.connect(**mysql_config)\n",
    "        cur = connection.cursor()\n",
    "            \n",
    "\n",
    "        # MySQL query to get distinct count of NPIs in the file and also in PECOS\n",
    "        query = ('''\n",
    "                SELECT COUNT(DISTINCT A.{col1})\n",
    "                FROM {db}.{t1} AS A\n",
    "                LEFT JOIN pecos.base_provider_enrollment_file AS B\n",
    "                ON A.{col1} = B.npi\n",
    "                WHERE B.npi IS NULL AND A.{col1} NOT LIKE '99999%';\n",
    "        '''.format(db = db_name, t1 = table_name, col1 = col_name))\n",
    "        \n",
    "        cur.execute(query)\n",
    "\n",
    "        print (\"The number of distinct {} that are not in pecos.base_provider_enrollment_file is:\".format(col_name) + '\\n')\n",
    "        for row in cur.fetchall():\n",
    "            for i in range(0,len(row)):\n",
    "                print (str(row[i]))\n",
    "            print ('\\n')\n",
    " \n",
    "        # MySQL query to get distinct count of NPIs in the file\n",
    "        query = ('''\n",
    "                SELECT COUNT(DISTINCT A.{col1})\n",
    "                FROM {db}.{t1} AS A\n",
    "                WHERE A.{col1} NOT LIKE '99999%';\n",
    "        '''.format(db = db_name, t1 = table_name, col1 = col_name))\n",
    "        \n",
    "        cur.execute(query)\n",
    "\n",
    "        print (\"The number of distinct {} in {}.{} is:\".format(col_name,db_name, table_name) + '\\n')\n",
    "        for row in cur.fetchall():\n",
    "            for i in range(0,len(row)):\n",
    "                print (str(row[i]))\n",
    "            print ('\\n')\n",
    "            \n",
    "        cur.close()\n",
    "        connection.close()"
   ]
  },
  {
   "cell_type": "code",
   "execution_count": 6,
   "metadata": {},
   "outputs": [
    {
     "name": "stdout",
     "output_type": "stream",
     "text": [
      "The number of distinct npi that are not in pecos.base_provider_enrollment_file is:\n",
      "\n",
      "79471\n",
      "\n",
      "\n",
      "The number of distinct npi in npi_hcpcs_merged_v2.npi_hcpcs_merged_v2_RQ18_YTD_3 is:\n",
      "\n",
      "1106620\n",
      "\n",
      "\n"
     ]
    }
   ],
   "source": [
    "npi_2('npi_hcpcs_merged_v2', 'npi_hcpcs_merged_v2_RQ18_YTD_3', 'npi')"
   ]
  },
  {
   "cell_type": "code",
   "execution_count": null,
   "metadata": {},
   "outputs": [],
   "source": []
  },
  {
   "cell_type": "code",
   "execution_count": null,
   "metadata": {},
   "outputs": [],
   "source": []
  }
 ],
 "metadata": {
  "kernelspec": {
   "display_name": "Python 3",
   "language": "python",
   "name": "python3"
  },
  "language_info": {
   "codemirror_mode": {
    "name": "ipython",
    "version": 3
   },
   "file_extension": ".py",
   "mimetype": "text/x-python",
   "name": "python",
   "nbconvert_exporter": "python",
   "pygments_lexer": "ipython3",
   "version": "3.6.4"
  }
 },
 "nbformat": 4,
 "nbformat_minor": 2
}
