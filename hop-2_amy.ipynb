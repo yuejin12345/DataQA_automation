{
 "cells": [
  {
   "cell_type": "markdown",
   "metadata": {},
   "source": [
    "# Hop-2: volume (patient_count, claim_count) in the undirected version of hop teaming, (A,B) and (B,A) should be the higher volume of the 2 in the directed version\n",
    "\n",
    "Description: volume (patient_count, claim_count) in the undirected version of hop teaming, (A,B) and (B,A) should be the higher volume of the 2 in the directed version. \n",
    "\n",
    "Starting Author: Amy Jin (amy@careset.com)\n",
    "\n",
    "Date: July 20th, 2018\n",
    "\n",
    "https://docs.google.com/spreadsheets/d/1IYg01IpssJaWHo6KxO4_dSDgXtYNFy41S5cIHFLvlGQ/edit#gid=604789549"
   ]
  },
  {
   "cell_type": "markdown",
   "metadata": {},
   "source": [
    "## Connection to Parenthood Server"
   ]
  },
  {
   "cell_type": "code",
   "execution_count": 1,
   "metadata": {},
   "outputs": [
    {
     "name": "stdout",
     "output_type": "stream",
     "text": [
      "SSH tunneling successful on port: 3333\n",
      "MySQL server connected successfully!\n"
     ]
    }
   ],
   "source": [
    "# Packages import\n",
    "import os\n",
    "import sys\n",
    "import numpy as np\n",
    "import pandas as pd\n",
    "from collections import Counter\n",
    "import operator\n",
    "import mysql.connector\n",
    "import sshtunnel\n",
    "import pureyaml\n",
    "\n",
    "# Handle path\n",
    "project_dir = !pwd  # dir of current script/notebook file\n",
    "config_file = open(project_dir[0] + \"/db.yaml\");\n",
    "config = pureyaml.load(config_file.read());\n",
    "\n",
    "# Argument dictionary for sshtunnel\n",
    "ssh_config = {\n",
    "    'ssh_address_or_host': ('parenthood.set.care', 22),\n",
    "    'ssh_username':        config['ssh_username'],\n",
    "    'ssh_password':        config['ssh_password'],\n",
    "    'remote_bind_address': ('127.0.0.1', 3306),\n",
    "    'local_bind_address':  ('0.0.0.0', 3333),\n",
    "}\n",
    "\n",
    "# Argument dictionary for mysql.connector\n",
    "mysql_config = {\n",
    "    'user':     config['mysql_user'],\n",
    "    'password': config['mysql_passwd'],\n",
    "    'host':     config['mysql_host'],\n",
    "    'database': 'patch',\n",
    "    'port':     3333,\n",
    "}\n",
    "\n",
    "# Connect to Parenthood server\n",
    "with sshtunnel.SSHTunnelForwarder(**ssh_config) as tunnel:\n",
    "    print('SSH tunneling successful on port: {}'.format(tunnel.local_bind_port))\n",
    "    connection = mysql.connector.connect(**mysql_config)\n",
    "    cur = connection.cursor()\n",
    "    print('MySQL server connected successfully!')"
   ]
  },
  {
   "cell_type": "markdown",
   "metadata": {},
   "source": [
    "## Test Function"
   ]
  },
  {
   "cell_type": "code",
   "execution_count": 5,
   "metadata": {},
   "outputs": [],
   "source": [
    "# --------------------------------------- Inputs: ---------------------------------------\n",
    "# 1) db_directed:                       database name of directed table\n",
    "# 2）table_directed:                    table name of directed table\n",
    "# 3) from_npi_directed:                 from npi column in directed table \n",
    "# 4) to_npi_directed:                   to npi column in directed table \n",
    "# 5) patient_count_directed:            patient count in directed table\n",
    "# 6) transaction_count_directed:        transaction/claim count in directed table\n",
    "\n",
    "# 7) db_undirected:                     database name of undirected table\n",
    "# 8）table_undirected:                  table name of undirected table\n",
    "# 9) npi_undirected:                    from npi column in undirected table \n",
    "# 10) npi_dest_undirected:              to npi column in undirected table \n",
    "# 11) patient_count_undirected:         patient count in undirected table\n",
    "# 12) transaction_count_undirected:     transaction/claim count in undirected table\n",
    "# --------------------------------------- Outputs: --------------------------------------\n",
    "# 1) Test result:                       PASS/FAIL\n",
    "# 2) If FAIL, the test will print out:\n",
    "#       - total count of (npi, npi_dest) pair in undirected table fail the test and\n",
    "#       - total count of (npi, npi_dest) pair in both directed and undirected table.\n",
    "\n",
    "\n",
    "def hop_2(db_directed, table_directed, from_npi_directed, to_npi_directed, \\\n",
    "          patient_count_directed, transaction_count_directed,  \\\n",
    "          db_undirected, table_undirected, npi_undirected, npi_dest_undirected, \\\n",
    "          patient_count_undirected, transaction_count_undirected):\n",
    "\n",
    "    with sshtunnel.SSHTunnelForwarder(**ssh_config) as tunnel:\n",
    "        connection = mysql.connector.connect(**mysql_config)\n",
    "        cur = connection.cursor()\n",
    "\n",
    "        query1 = ('''\n",
    "SELECT COUNT(*)\n",
    "FROM (\n",
    "       SELECT\n",
    "         IF(t1_tran_cnt < t2_tran_cnt AND t1_patient_cnt < t2_patient_cnt, t2_from_npi, t1_from_npi)       AS from_npi_big,\n",
    "         IF(t1_tran_cnt < t2_tran_cnt AND t1_patient_cnt < t2_patient_cnt, t2_to_npi, t1_to_npi)           AS to_npi_big,\n",
    "         IF(t1_tran_cnt < t2_tran_cnt, t2_tran_cnt, t1_tran_cnt)                                           AS tran_cnt_big,\n",
    "         IF(t1_patient_cnt < t2_patient_cnt, t2_patient_cnt, t1_patient_cnt)                               AS patient_cnt_big\n",
    "       FROM\n",
    "         (SELECT\n",
    "            t1.{from_npi}          AS t1_from_npi,\n",
    "            t1.{to_npi}            AS t1_to_npi,\n",
    "            t1.{transaction_count} AS t1_tran_cnt,\n",
    "            t1.{patient_count}     AS t1_patient_cnt,\n",
    "            t2.{from_npi}          AS t2_from_npi,\n",
    "            t2.{to_npi}            AS t2_to_npi,\n",
    "            t2.{transaction_count} AS t2_tran_cnt,\n",
    "            t2.{patient_count}     AS t2_patient_cnt\n",
    "          FROM {db_directed}.{t_directed} AS t1\n",
    "            JOIN {db_directed}.{t_directed} AS t2\n",
    "              ON t1.{from_npi} = t2.{to_npi} AND t1.{to_npi} = t2.{from_npi}) AS t3) AS t4\n",
    "  JOIN {db_undirected}.{t_undirected} AS t5\n",
    "    ON t4.from_npi_big = t5.{npi_undirected} AND t4.to_npi_big = t5.{npi_dest_undirected}\n",
    "WHERE t4.patient_cnt_big <> t5.{patient_count_undirected} OR t4.tran_cnt_big <> t5.{transaction_count_undirected}; \n",
    "        '''.format(db_directed = db_directed, t_directed = table_directed, from_npi = from_npi_directed, to_npi = to_npi_directed, transaction_count = transaction_count_directed, patient_count = patient_count_directed, db_undirected = db_undirected, t_undirected = table_undirected, npi_undirected = npi_undirected, npi_dest_undirected = npi_dest_undirected, patient_count_undirected = patient_count_undirected, transaction_count_undirected= transaction_count_undirected))\n",
    "        \n",
    "        cur.execute(query1)\n",
    "        \n",
    "        for row in cur.fetchall():\n",
    "            for i in range(0,len(row)):\n",
    "                fail_num1= (str(row[i]))\n",
    "\n",
    "                \n",
    "        query2 = ('''\n",
    "SELECT COUNT(*)\n",
    "FROM (\n",
    "       SELECT\n",
    "         IF(t1_tran_cnt < t2_tran_cnt , t2_from_npi, t1_from_npi)              AS from_npi_big,\n",
    "         IF(t1_tran_cnt < t2_tran_cnt , t2_to_npi, t1_to_npi)                  AS to_npi_big,\n",
    "         IF(t1_tran_cnt < t2_tran_cnt, t2_tran_cnt, t1_tran_cnt)               AS tran_cnt_big,\n",
    "         IF(t1_patient_cnt < t2_patient_cnt, t2_patient_cnt, t1_patient_cnt)   AS patient_cnt_big\n",
    "       FROM\n",
    "         (SELECT\n",
    "            t1.{from_npi}          AS t1_from_npi,\n",
    "            t1.{to_npi}            AS t1_to_npi,\n",
    "            t1.{transaction_count} AS t1_tran_cnt,\n",
    "            t1.{patient_count}     AS t1_patient_cnt,\n",
    "            t2.{from_npi}          AS t2_from_npi,\n",
    "            t2.{to_npi}            AS t2_to_npi,\n",
    "            t2.{transaction_count} AS t2_tran_cnt,\n",
    "            t2.{patient_count}     AS t2_patient_cnt\n",
    "          FROM {db_directed}.{t_directed} AS t1\n",
    "            JOIN {db_directed}.{t_directed} AS t2\n",
    "              ON t1.{from_npi} = t2.{to_npi} AND t1.{to_npi} = t2.{from_npi}) AS t3) AS t4\n",
    "  JOIN {db_undirected}.{t_undirected} AS t5\n",
    "    ON t4.from_npi_big = t5.{npi_dest_undirected} AND t4.to_npi_big = t5.{npi_undirected}\n",
    "WHERE t4.patient_cnt_big <> t5.{patient_count_undirected} OR t4.tran_cnt_big <> t5.{transaction_count_undirected}; \n",
    "        '''.format(db_directed = db_directed, t_directed = table_directed, from_npi = from_npi_directed, to_npi = to_npi_directed, transaction_count = transaction_count_directed, patient_count = patient_count_directed, db_undirected = db_undirected, t_undirected = table_undirected, npi_undirected = npi_undirected, npi_dest_undirected = npi_dest_undirected, patient_count_undirected = patient_count_undirected, transaction_count_undirected= transaction_count_undirected))\n",
    "        \n",
    "        cur.execute(query2)\n",
    "              \n",
    "        for row in cur.fetchall():\n",
    "            for i in range(0,len(row)):\n",
    "                fail_num2= (str(row[i]))                \n",
    "        fail_num = int(fail_num1) + int(fail_num2)\n",
    "        if fail_num == 0:\n",
    "            print (\"Hop-2 test result: PASS\" + '\\n')\n",
    "        else:\n",
    "            print (\"Hop-2 test result: FAIL\" + '\\n')\n",
    "            print (\"The total count of (npi, npi_dest) pair in undirected table fail the test is:\" + '\\n') \n",
    "            print (fail_num)\n",
    "\n",
    "                \n",
    "            query = ('''\n",
    "    SELECT COUNT(*)\n",
    "    FROM (\n",
    "           SELECT\n",
    "             IF(t1_tran_cnt < t2_tran_cnt , t2_from_npi, t1_from_npi)              AS from_npi_big,\n",
    "             IF(t1_tran_cnt < t2_tran_cnt , t2_to_npi, t1_to_npi)                  AS to_npi_big,\n",
    "             IF(t1_tran_cnt < t2_tran_cnt, t2_tran_cnt, t1_tran_cnt)               AS tran_cnt_big,\n",
    "             IF(t1_patient_cnt < t2_patient_cnt, t2_patient_cnt, t1_patient_cnt)   AS patient_cnt_big\n",
    "           FROM\n",
    "             (SELECT\n",
    "                t1.{from_npi}          AS t1_from_npi,\n",
    "                t1.{to_npi}            AS t1_to_npi,\n",
    "                t1.{transaction_count} AS t1_tran_cnt,\n",
    "                t1.{patient_count}     AS t1_patient_cnt,\n",
    "                t2.{from_npi}          AS t2_from_npi,\n",
    "                t2.{to_npi}            AS t2_to_npi,\n",
    "                t2.{transaction_count} AS t2_tran_cnt,\n",
    "                t2.{patient_count}     AS t2_patient_cnt\n",
    "              FROM {db_directed}.{t_directed} AS t1\n",
    "                JOIN {db_directed}.{t_directed} AS t2\n",
    "                  ON t1.{from_npi} = t2.{to_npi} AND t1.{to_npi} = t2.{from_npi}) AS t3) AS t4\n",
    "      JOIN {db_undirected}.{t_undirected} AS t5\n",
    "        ON t4.from_npi_big = t5.{npi_undirected} AND t4.to_npi_big = t5.{npi_dest_undirected}; \n",
    "            '''.format(db_directed = db_directed, t_directed = table_directed, from_npi = from_npi_directed, to_npi = to_npi_directed, transaction_count = transaction_count_directed, patient_count = patient_count_directed, db_undirected = db_undirected, t_undirected = table_undirected, npi_undirected = npi_undirected, npi_dest_undirected = npi_dest_undirected, patient_count_undirected = patient_count_undirected, transaction_count_undirected= transaction_count_undirected))\n",
    "\n",
    "            cur.execute(query)\n",
    "\n",
    "            print (\"The total count of (npi, npi_dest) pair in both directed and undirected table is:\" + '\\n')        \n",
    "            for row in cur.fetchall():\n",
    "                for i in range(0,len(row)):\n",
    "                    print (str(row[i]))\n",
    "\n",
    "        cur.close()\n",
    "        connection.close()            "
   ]
  },
  {
   "cell_type": "markdown",
   "metadata": {},
   "source": [
    "## Test Example"
   ]
  },
  {
   "cell_type": "code",
   "execution_count": 6,
   "metadata": {},
   "outputs": [
    {
     "name": "stdout",
     "output_type": "stream",
     "text": [
      "Hop-2 test result: PASS\n",
      "\n"
     ]
    }
   ],
   "source": [
    "hop_2('_amy', 'test_hop_directed_good', 'from_npi', 'to_npi', \\\n",
    "          'patient_count', 'transaction_count',  \\\n",
    "          '_amy', 'test_hop_undirected_good', 'npi', 'npi_dest', \\\n",
    "          'patient_count', 'transaction_count')"
   ]
  },
  {
   "cell_type": "code",
   "execution_count": 7,
   "metadata": {},
   "outputs": [
    {
     "name": "stdout",
     "output_type": "stream",
     "text": [
      "Hop-2 test result: FAIL\n",
      "\n",
      "The total count of (npi, npi_dest) pair in undirected table fail the test is:\n",
      "\n",
      "168\n",
      "The total count of (npi, npi_dest) pair in both directed and undirected table is:\n",
      "\n",
      "542\n"
     ]
    }
   ],
   "source": [
    "hop_2('_amy', 'test_hop_directed_bad', 'from_npi', 'to_npi', \\\n",
    "          'patient_count', 'transaction_count',  \\\n",
    "          '_amy', 'test_hop_undirected_bad', 'npi', 'npi_dest', \\\n",
    "          'patient_count', 'transaction_count')"
   ]
  }
 ],
 "metadata": {
  "kernelspec": {
   "display_name": "Python 3",
   "language": "python",
   "name": "python3"
  },
  "language_info": {
   "codemirror_mode": {
    "name": "ipython",
    "version": 3
   },
   "file_extension": ".py",
   "mimetype": "text/x-python",
   "name": "python",
   "nbconvert_exporter": "python",
   "pygments_lexer": "ipython3",
   "version": "3.6.4"
  }
 },
 "nbformat": 4,
 "nbformat_minor": 2
}
