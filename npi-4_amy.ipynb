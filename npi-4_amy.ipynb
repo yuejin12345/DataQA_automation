{
 "cells": [
  {
   "cell_type": "markdown",
   "metadata": {},
   "source": [
    "# NPI-4: NPI is numeric\n",
    "\n",
    "Description: check if all NPIs are numeric. Test will pass if it is true.\n",
    "\n",
    "Starting Author: Amy Jin (amy@careset.com)\n",
    "\n",
    "Date: April 16th, 2018\n",
    "\n",
    "https://docs.google.com/spreadsheets/d/1IYg01IpssJaWHo6KxO4_dSDgXtYNFy41S5cIHFLvlGQ/edit#gid=604789549"
   ]
  },
  {
   "cell_type": "markdown",
   "metadata": {},
   "source": [
    "## Connection to Parenthood Server"
   ]
  },
  {
   "cell_type": "code",
   "execution_count": 1,
   "metadata": {},
   "outputs": [
    {
     "name": "stdout",
     "output_type": "stream",
     "text": [
      "SSH tunneling successful on port: 3333\n",
      "MySQL server connected successfully!\n"
     ]
    }
   ],
   "source": [
    "# Packages import\n",
    "import os\n",
    "import sys\n",
    "import numpy as np\n",
    "import pandas as pd\n",
    "from collections import Counter\n",
    "import operator\n",
    "import mysql.connector\n",
    "import sshtunnel\n",
    "import pureyaml\n",
    "\n",
    "# Handle path\n",
    "project_dir = !pwd  # dir of current script/notebook file\n",
    "config_file = open(project_dir[0] + \"/db.yaml\");\n",
    "config = pureyaml.load(config_file.read());\n",
    "\n",
    "# Argument dictionary for sshtunnel\n",
    "ssh_config = {\n",
    "    'ssh_address_or_host': ('parenthood.set.care', 22),\n",
    "    'ssh_username':        config['ssh_username'],\n",
    "    'ssh_password':        config['ssh_password'],\n",
    "    'remote_bind_address': ('127.0.0.1', 3306),\n",
    "    'local_bind_address':  ('0.0.0.0', 3333),\n",
    "}\n",
    "\n",
    "# Argument dictionary for mysql.connector\n",
    "mysql_config = {\n",
    "    'user':     config['mysql_user'],\n",
    "    'password': config['mysql_passwd'],\n",
    "    'host':     config['mysql_host'],\n",
    "    'database': 'patch',\n",
    "    'port':     3333,\n",
    "}\n",
    "\n",
    "# Connect to Parenthood server\n",
    "with sshtunnel.SSHTunnelForwarder(**ssh_config) as tunnel:\n",
    "    print('SSH tunneling successful on port: {}'.format(tunnel.local_bind_port))\n",
    "    connection = mysql.connector.connect(**mysql_config)\n",
    "    cur = connection.cursor()\n",
    "    print('MySQL server connected successfully!')"
   ]
  },
  {
   "cell_type": "markdown",
   "metadata": {},
   "source": [
    "## Test Function"
   ]
  },
  {
   "cell_type": "code",
   "execution_count": 2,
   "metadata": {},
   "outputs": [],
   "source": [
    "# --------------------------------------- Inputs: ---------------------------------------\n",
    "# 1) db_name:                database name in server\n",
    "# 2）table_name:             table name\n",
    "# 3) col_name:               column to test\n",
    "# --------------------------------------- Outputs: --------------------------------------\n",
    "# 1) Test result:            PASS/FAIL\n",
    "# 2) If FAIL, test will print out the number of distinct npi that are not numeric.\n",
    "\n",
    "\n",
    "def npi_4(db_name, table_name, col_name):\n",
    "    \n",
    "    with sshtunnel.SSHTunnelForwarder(**ssh_config) as tunnel:\n",
    "        connection = mysql.connector.connect(**mysql_config)\n",
    "        cur = connection.cursor()\n",
    "        print ('Test file: {}.{}'.format(db_name, table_name))\n",
    "        print ('\\n')   \n",
    "        \n",
    "        # MySQL query to get failed NPIs\n",
    "        query = ('''\n",
    "                SELECT t1.c1 - t2.c2\n",
    "                FROM (\n",
    "                  (SELECT count(*) AS c1\n",
    "                  FROM {db}.{t1}) AS t1,\n",
    "                  (SELECT count(*) AS c2\n",
    "                  FROM {db}.{t1}\n",
    "                  WHERE {col1} REGEXP '^[0-9]+$' OR {col1} = 'GLOBAL') AS t2\n",
    "                );\n",
    "        '''.format(db = db_name, t1 = table_name, col1 = col_name))\n",
    "        \n",
    "        cur.execute(query)\n",
    "\n",
    "        print (\"The number of distinct {} that are not numeric is:\".format(col_name) + '\\n')\n",
    "        for row in cur.fetchall():\n",
    "            for i in range(0,len(row)):\n",
    "                print (str(row[i]))\n",
    "            print ('\\n')\n",
    "        if row[i] == 0:\n",
    "            print ('Npi-4 test result: PASS')\n",
    "        else:\n",
    "            print ('Npi-4 test result: FAIL')\n",
    "            \n",
    "        cur.close()\n",
    "        connection.close()"
   ]
  },
  {
   "cell_type": "markdown",
   "metadata": {},
   "source": [
    "## Test Example"
   ]
  },
  {
   "cell_type": "markdown",
   "metadata": {},
   "source": [
    "SELECT t1.c1 - t2.c2a\n",
    "FROM (\n",
    "  (SELECT count(*) AS c1\n",
    "  FROM drg_npi.drg_npi_16_17XX) AS t1,\n",
    "  (SELECT count(*) AS c2\n",
    "  FROM drg_npi.drg_npi_16_17XX\n",
    "  WHERE npi REGEXP '^[0-9]+$') AS t2\n",
    "); # total nrow - isnumeric nrow = 0"
   ]
  },
  {
   "cell_type": "code",
   "execution_count": 3,
   "metadata": {},
   "outputs": [
    {
     "name": "stdout",
     "output_type": "stream",
     "text": [
      "Test file: _amy.test_data_good\n",
      "\n",
      "\n",
      "The number of distinct npi that are not numeric is:\n",
      "\n",
      "0\n",
      "\n",
      "\n",
      "Npi-4 test result: PASS\n"
     ]
    }
   ],
   "source": [
    "npi_4('_amy', 'test_data_good', 'npi')"
   ]
  },
  {
   "cell_type": "code",
   "execution_count": 4,
   "metadata": {},
   "outputs": [
    {
     "name": "stdout",
     "output_type": "stream",
     "text": [
      "Test file: _amy.test_data_bad1\n",
      "\n",
      "\n",
      "The number of distinct npi that are not numeric is:\n",
      "\n",
      "943\n",
      "\n",
      "\n",
      "Npi-4 test result: FAIL\n"
     ]
    }
   ],
   "source": [
    "npi_4('_amy', 'test_data_bad1', 'npi')"
   ]
  },
  {
   "cell_type": "code",
   "execution_count": 3,
   "metadata": {},
   "outputs": [
    {
     "name": "stdout",
     "output_type": "stream",
     "text": [
      "Test file: client_celgene. HCP_Geographic_distribution_of_MM_Patients\n",
      "\n",
      "\n",
      "The number of distinct `Physician NPI Number` that are not numeric is:\n",
      "\n",
      "0\n",
      "\n",
      "\n",
      "Npi-4 test result: PASS\n"
     ]
    }
   ],
   "source": [
    "npi_4('client_celgene',' HCP_Geographic_distribution_of_MM_Patients', '`Physician NPI Number`')"
   ]
  },
  {
   "cell_type": "code",
   "execution_count": null,
   "metadata": {},
   "outputs": [],
   "source": []
  }
 ],
 "metadata": {
  "kernelspec": {
   "display_name": "Python 3",
   "language": "python",
   "name": "python3"
  },
  "language_info": {
   "codemirror_mode": {
    "name": "ipython",
    "version": 3
   },
   "file_extension": ".py",
   "mimetype": "text/x-python",
   "name": "python",
   "nbconvert_exporter": "python",
   "pygments_lexer": "ipython3",
   "version": "3.6.4"
  }
 },
 "nbformat": 4,
 "nbformat_minor": 2
}
