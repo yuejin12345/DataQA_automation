{
 "cells": [
  {
   "cell_type": "markdown",
   "metadata": {},
   "source": [
    "# HOP-6: if same day transaction count = transaction count, same day patient count = patient count\n",
    "\n",
    "Description: if same day transaction count is equal to transaction count, then same day patient count should be equal to patient count.\n",
    "\n",
    "Starting Author: Amy Jin (amy@careset.com)\n",
    "\n",
    "Date: July 20th, 2018\n",
    "\n",
    "https://docs.google.com/spreadsheets/d/1sltXNV5CDfkClTs23rCgOSImqeZDIjJJoTZQwtDvZ18/edit#gid=0"
   ]
  },
  {
   "cell_type": "markdown",
   "metadata": {},
   "source": [
    "## Connection to Parenthood Server"
   ]
  },
  {
   "cell_type": "code",
   "execution_count": 1,
   "metadata": {},
   "outputs": [
    {
     "name": "stdout",
     "output_type": "stream",
     "text": [
      "SSH tunneling successful on port: 3333\n",
      "MySQL server connected successfully!\n"
     ]
    }
   ],
   "source": [
    "# Packages import\n",
    "import os\n",
    "import sys\n",
    "import numpy as np\n",
    "import pandas as pd\n",
    "from collections import Counter\n",
    "import operator\n",
    "import mysql.connector\n",
    "import sshtunnel\n",
    "import pureyaml\n",
    "\n",
    "# Handle path\n",
    "project_dir = !pwd  # dir of current script/notebook file\n",
    "config_file = open(project_dir[0] + \"/db.yaml\");\n",
    "config = pureyaml.load(config_file.read());\n",
    "\n",
    "# Argument dictionary for sshtunnel\n",
    "ssh_config = {\n",
    "    'ssh_address_or_host': ('parenthood.set.care', 22),\n",
    "    'ssh_username':        config['ssh_username'],\n",
    "    'ssh_password':        config['ssh_password'],\n",
    "    'remote_bind_address': ('127.0.0.1', 3306),\n",
    "    'local_bind_address':  ('0.0.0.0', 3333),\n",
    "}\n",
    "\n",
    "# Argument dictionary for mysql.connector\n",
    "mysql_config = {\n",
    "    'user':     config['mysql_user'],\n",
    "    'password': config['mysql_passwd'],\n",
    "    'host':     config['mysql_host'],\n",
    "    'database': 'patch',\n",
    "    'port':     3333,\n",
    "}\n",
    "\n",
    "# Connect to Parenthood server\n",
    "with sshtunnel.SSHTunnelForwarder(**ssh_config) as tunnel:\n",
    "    print('SSH tunneling successful on port: {}'.format(tunnel.local_bind_port))\n",
    "    connection = mysql.connector.connect(**mysql_config)\n",
    "    cur = connection.cursor()\n",
    "    print('MySQL server connected successfully!')"
   ]
  },
  {
   "cell_type": "markdown",
   "metadata": {},
   "source": [
    "## Test Function"
   ]
  },
  {
   "cell_type": "code",
   "execution_count": 5,
   "metadata": {},
   "outputs": [],
   "source": [
    "# --------------------------------------- Inputs: ---------------------------------------\n",
    "# 1) db_name:                       database name in server\n",
    "# 2）table_name:                    table name\n",
    "# 3) same_day_transaction_count:    same day transaction count column\n",
    "# 4) transaction_count:             transaction count column \n",
    "# 5) same_day_patient_count:        same day patient count column \n",
    "# 6) patient_count:                 patient count column \n",
    "# --------------------------------------- Outputs: --------------------------------------\n",
    "# 1) Test result:            PASS/FAIL\n",
    "# 2) If FAIL, the test will print out all the same_day_transaction_count, transaction_count, \n",
    "# same_day_patient_count, patient_count fail the test.\n",
    "\n",
    "\n",
    "def hop_6(db_name, table_name, same_day_transaction_count, \\\n",
    "             transaction_count, same_day_patient_count, patient_count):\n",
    "\n",
    "    with sshtunnel.SSHTunnelForwarder(**ssh_config) as tunnel:\n",
    "        connection = mysql.connector.connect(**mysql_config)\n",
    "        cur = connection.cursor()\n",
    "\n",
    "        query = ('''\n",
    "            SELECT *\n",
    "            FROM {db}.{t1}\n",
    "            WHERE ({col1} = {col2} AND {col3} <> {col4})\n",
    "            LIMIT 1;\n",
    "        '''.format(db = db_name, t1 = table_name, col1 = same_day_transaction_count, \\\n",
    "             col2 = transaction_count, col3 = same_day_patient_count, col4 = patient_count))\n",
    "\n",
    "        cur.execute(query)\n",
    "        rows = list(sum(cur.fetchall(), ()))\n",
    "\n",
    "\n",
    "        if not len(rows):\n",
    "            print (\"Count-9 test result for {}.{} : PASS\".format(db_name, table_name))\n",
    "        else:\n",
    "                   \n",
    "            print (\"Count-9 test result for {}.{} : FAIL\".format(db_name, table_name) + '\\n')\n",
    "            print (\"The following rows fail the test:\" +'\\n')\n",
    "            print ('{}, {}, {}, {}'.format(same_day_transaction_count, transaction_count, same_day_patient_count, patient_count) +'\\n')\n",
    "\n",
    "            # MySQL query to get the failed rows\n",
    "            query = ('''\n",
    "                SELECT {col1}, {col2}, {col3}, {col4}\n",
    "                FROM {db}.{t1}\n",
    "                WHERE ({col1} = {col2} AND {col3} <> {col4});\n",
    "            '''.format(db = db_name, t1 = table_name, col1 = same_day_transaction_count, \\\n",
    "             col2 = transaction_count, col3 = same_day_patient_count, col4 = patient_count))\n",
    "\n",
    "            cur.execute(query)\n",
    "\n",
    "            for row in cur.fetchall():\n",
    "                for i in range(0,len(row)):\n",
    "                    print (str(row[i]), end=\", \")\n",
    "                print ('\\n')\n",
    "\n",
    "        cur.close()\n",
    "        connection.close()"
   ]
  },
  {
   "cell_type": "markdown",
   "metadata": {},
   "source": [
    "## Test Example"
   ]
  },
  {
   "cell_type": "code",
   "execution_count": 6,
   "metadata": {},
   "outputs": [
    {
     "name": "stdout",
     "output_type": "stream",
     "text": [
      "Count-9 test result for _amy.test_hop_directed_good : PASS\n"
     ]
    }
   ],
   "source": [
    "hop_6('_amy', 'test_hop_directed_good', 'same_day_transaction_count', \\\n",
    "             'transaction_count', 'same_day_patient_count', 'patient_count')"
   ]
  },
  {
   "cell_type": "code",
   "execution_count": 7,
   "metadata": {},
   "outputs": [
    {
     "name": "stdout",
     "output_type": "stream",
     "text": [
      "Count-9 test result for _amy.test_hop_directed_bad : FAIL\n",
      "\n",
      "The following rows fail the test:\n",
      "\n",
      "same_day_transaction_count, transaction_count, same_day_patient_count, patient_count\n",
      "\n",
      "218, 218, 500, 191, \n",
      "\n",
      "32, 32, 500, 29, \n",
      "\n",
      "46, 46, 500, 42, \n",
      "\n",
      "115, 115, 500, 106, \n",
      "\n",
      "21, 21, 500, 21, \n",
      "\n",
      "12, 12, 500, 11, \n",
      "\n",
      "13, 13, 500, 13, \n",
      "\n",
      "180, 180, 500, 169, \n",
      "\n",
      "12, 12, 500, 12, \n",
      "\n",
      "21, 21, 500, 21, \n",
      "\n",
      "39, 39, 500, 39, \n",
      "\n",
      "46, 46, 500, 46, \n",
      "\n"
     ]
    }
   ],
   "source": [
    "hop_6('_amy', 'test_hop_directed_bad', 'same_day_transaction_count', \\\n",
    "             'transaction_count', 'same_day_patient_count', 'patient_count')"
   ]
  },
  {
   "cell_type": "code",
   "execution_count": null,
   "metadata": {},
   "outputs": [],
   "source": []
  }
 ],
 "metadata": {
  "kernelspec": {
   "display_name": "Python 3",
   "language": "python",
   "name": "python3"
  },
  "language_info": {
   "codemirror_mode": {
    "name": "ipython",
    "version": 3
   },
   "file_extension": ".py",
   "mimetype": "text/x-python",
   "name": "python",
   "nbconvert_exporter": "python",
   "pygments_lexer": "ipython3",
   "version": "3.6.4"
  }
 },
 "nbformat": 4,
 "nbformat_minor": 2
}
