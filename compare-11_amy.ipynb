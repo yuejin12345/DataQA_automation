{
 "cells": [
  {
   "cell_type": "markdown",
   "metadata": {},
   "source": [
    "# Compare-11: compare NPI pair (from_npi, to_npi) count in 'undirected Hop teaming' to that in 'rootgraph (npi_team_rootgraph)' and check the overlap pair count.\n",
    "\n",
    "Description: compare NPI pair (from_npi, to_npi) count in 'undirected Hop teaming' to that in 'rootgraph (npi_team_rootgraph)' and check the overlap pair count.\n",
    "\n",
    "Starting Author: Amy Jin (amy@careset.com)\n",
    "\n",
    "Date: July 27th, 2018\n",
    "\n",
    "https://docs.google.com/spreadsheets/d/1IYg01IpssJaWHo6KxO4_dSDgXtYNFy41S5cIHFLvlGQ/edit#gid=604789549"
   ]
  },
  {
   "cell_type": "markdown",
   "metadata": {},
   "source": [
    "## Connection to Parenthood Server"
   ]
  },
  {
   "cell_type": "code",
   "execution_count": 1,
   "metadata": {},
   "outputs": [
    {
     "name": "stdout",
     "output_type": "stream",
     "text": [
      "SSH tunneling successful on port: 3333\n",
      "MySQL server connected successfully!\n"
     ]
    }
   ],
   "source": [
    "# Packages import\n",
    "import os\n",
    "import sys\n",
    "import numpy as np\n",
    "import pandas as pd\n",
    "from collections import Counter\n",
    "import operator\n",
    "import mysql.connector\n",
    "import sshtunnel\n",
    "import pureyaml\n",
    "\n",
    "# Handle path\n",
    "project_dir = !pwd  # dir of current script/notebook file\n",
    "config_file = open(project_dir[0] + \"/db.yaml\");\n",
    "config = pureyaml.load(config_file.read());\n",
    "\n",
    "# Argument dictionary for sshtunnel\n",
    "ssh_config = {\n",
    "    'ssh_address_or_host': ('parenthood.set.care', 22),\n",
    "    'ssh_username':        config['ssh_username'],\n",
    "    'ssh_password':        config['ssh_password'],\n",
    "    'remote_bind_address': ('127.0.0.1', 3306),\n",
    "    'local_bind_address':  ('0.0.0.0', 3333),\n",
    "}\n",
    "\n",
    "# Argument dictionary for mysql.connector\n",
    "mysql_config = {\n",
    "    'user':     config['mysql_user'],\n",
    "    'password': config['mysql_passwd'],\n",
    "    'host':     config['mysql_host'],\n",
    "    'database': 'patch',\n",
    "    'port':     3333,\n",
    "}\n",
    "\n",
    "# Connect to Parenthood server\n",
    "with sshtunnel.SSHTunnelForwarder(**ssh_config) as tunnel:\n",
    "    print('SSH tunneling successful on port: {}'.format(tunnel.local_bind_port))\n",
    "    connection = mysql.connector.connect(**mysql_config)\n",
    "    cur = connection.cursor()\n",
    "    print('MySQL server connected successfully!')"
   ]
  },
  {
   "cell_type": "markdown",
   "metadata": {},
   "source": [
    "## Test Function"
   ]
  },
  {
   "cell_type": "code",
   "execution_count": 2,
   "metadata": {},
   "outputs": [],
   "source": [
    "# --------------------------------------- Inputs: ---------------------------------------\n",
    "# 1) hop_db:                        Hop teaming database name\n",
    "# 2）hop_table:                     Hop teaming table name\n",
    "# 3) hop_npi:                       Hop teaming npi column\n",
    "# 4) hop_npi_dest:                  Hop teaming npi_dest column\n",
    "\n",
    "# 1) foia_db:                       FOIA PUF database name\n",
    "# 2）foia_table:                    FOIA PUF table name\n",
    "# 3) foia_npi:                      FOIA PUF from npi column\n",
    "# 4) foia_npi_dest:                 FOIA PUF to npi column\n",
    "# --------------------------------------- Outputs: --------------------------------------\n",
    "# Test result:  \n",
    "#    - Count of distinct (npi,npi_dest) pair in both files\n",
    "#    - Count of distinct (npi,npi_dest) pair in hop teaming table\n",
    "#    - Count of distinct (npi,npi_dest) pair in rootgraph table\n",
    "\n",
    "def compare_11(hop_db, hop_table, hop_npi, hop_npi_dest, \\\n",
    "              rootgraph_db, rootgraph_table, rootgraph_npi, rootgraph_npi_dest):\n",
    "\n",
    "    with sshtunnel.SSHTunnelForwarder(**ssh_config) as tunnel:\n",
    "        connection = mysql.connector.connect(**mysql_config)\n",
    "        cur = connection.cursor()\n",
    "        \n",
    "        # MySQL query to find distinct count of NPI pair in both Hop and rootgraph\n",
    "        query = ('''\n",
    "            SELECT COUNT(*)\n",
    "            FROM {db}.{t} AS table1\n",
    "            JOIN {db2}.{t2} AS table2\n",
    "            ON table1.{npi} = table2.{npi2} \n",
    "                AND table1.{npi_dest} = table2.{npi_dest2} ;\n",
    "        '''.format(db = hop_db, t = hop_table, \\\n",
    "                   npi = hop_npi, npi_dest = hop_npi_dest, \\\n",
    "                   db2 = rootgraph_db, t2 = rootgraph_table, \\\n",
    "                   npi2 = rootgraph_npi, npi_dest2 = rootgraph_npi_dest))\n",
    "\n",
    "        cur.execute(query)\n",
    "    \n",
    "        print ('Count of distinct ({},{}) in both {}.{} and {}.{} is:'.format(hop_npi, hop_npi_dest, \\\n",
    "                                                                         hop_db, hop_table, \\\n",
    "                                                                         rootgraph_db, rootgraph_table))\n",
    "        \n",
    "        for row in cur.fetchall():\n",
    "            for i in range(0,len(row)):\n",
    "                print (str(row[i]))\n",
    "         \n",
    "        # MySQL query to find distinct count of NPI pair in Hop teaming \n",
    "        query = ('''\n",
    "                SELECT COUNT(*)\n",
    "                FROM (\n",
    "                       SELECT *\n",
    "                       FROM {db}.{t1} AS T1\n",
    "                       GROUP BY T1.{npi}, T1.{npi_dest}\n",
    "                     ) AS T2;\n",
    "        '''.format(db = hop_db, t1 = hop_table, npi = hop_npi, npi_dest = hop_npi_dest))\n",
    "\n",
    "        cur.execute(query)\n",
    "    \n",
    "        print ('Count of distinct ({},{}) pair in {}.{} is:'.format(hop_npi, hop_npi_dest, hop_db, hop_table))\n",
    "        \n",
    "        for row in cur.fetchall():\n",
    "            for i in range(0,len(row)):\n",
    "                print (str(row[i]))\n",
    "\n",
    "        # MySQL query to find distinct count of NPI pair in rootgraph\n",
    "        query = ('''\n",
    "                SELECT COUNT(*)\n",
    "                FROM (\n",
    "                       SELECT *\n",
    "                       FROM {db}.{t1} AS T1\n",
    "                       GROUP BY T1.{npi}, T1.{npi_dest}\n",
    "                     ) AS T2;\n",
    "        '''.format(db = rootgraph_db, t1 = rootgraph_table, npi = rootgraph_npi, npi_dest = rootgraph_npi_dest))\n",
    "\n",
    "        cur.execute(query)\n",
    "    \n",
    "        print ('Count of distinct ({},{}) pair in {}.{} is:'.format(rootgraph_npi, rootgraph_npi_dest, rootgraph_db, rootgraph_table))\n",
    "        \n",
    "        for row in cur.fetchall():\n",
    "            for i in range(0,len(row)):\n",
    "                print (str(row[i]))\n",
    "            \n",
    "        cur.close()\n",
    "        connection.close()"
   ]
  },
  {
   "cell_type": "markdown",
   "metadata": {},
   "source": [
    "## Test Example"
   ]
  },
  {
   "cell_type": "code",
   "execution_count": 4,
   "metadata": {},
   "outputs": [
    {
     "name": "stdout",
     "output_type": "stream",
     "text": [
      "Count of distinct (icd10cm,icd10cm) in both _amy.test_data_good and _amy.test_data_bad1 is:\n",
      "0\n",
      "Count of distinct (icd10cm,icd10cm) pair in _amy.test_data_good is:\n",
      "2000\n",
      "Count of distinct (icd_dgns_cd,icd_dgns_cd) pair in _amy.test_data_bad1 is:\n",
      "138\n"
     ]
    }
   ],
   "source": [
    "compare_11('_amy', 'test_data_good','icd10cm', \\\n",
    "          'icd10cm', \\\n",
    "         '_amy', 'test_data_bad1','icd_dgns_cd',\\\n",
    "         'icd_dgns_cd')"
   ]
  },
  {
   "cell_type": "markdown",
   "metadata": {},
   "source": [
    "## Internal Data Example"
   ]
  },
  {
   "cell_type": "code",
   "execution_count": 6,
   "metadata": {},
   "outputs": [
    {
     "name": "stdout",
     "output_type": "stream",
     "text": [
      "Count of distinct (npi,npi_dest) in both npi_hop_RQ14.undirected and npi_team_rootgraph_2014.undirected is:\n",
      "123033346\n",
      "Count of distinct (npi,npi_dest) pair in npi_hop_RQ14.undirected is:\n",
      "123034516\n",
      "Count of distinct (npi,npi_dest) pair in npi_team_rootgraph_2014.undirected is:\n",
      "159132078\n"
     ]
    }
   ],
   "source": [
    "compare_11('npi_hop_RQ14', 'undirected', \\\n",
    "           'npi', 'npi_dest',\\\n",
    "          'npi_team_rootgraph_2014', \\\n",
    "           'undirected', 'npi', 'npi_dest')"
   ]
  },
  {
   "cell_type": "code",
   "execution_count": null,
   "metadata": {},
   "outputs": [],
   "source": []
  }
 ],
 "metadata": {
  "kernelspec": {
   "display_name": "Python 3",
   "language": "python",
   "name": "python3"
  },
  "language_info": {
   "codemirror_mode": {
    "name": "ipython",
    "version": 3
   },
   "file_extension": ".py",
   "mimetype": "text/x-python",
   "name": "python",
   "nbconvert_exporter": "python",
   "pygments_lexer": "ipython3",
   "version": "3.6.4"
  }
 },
 "nbformat": 4,
 "nbformat_minor": 2
}
